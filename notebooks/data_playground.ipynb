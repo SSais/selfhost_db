{
 "cells": [
  {
   "cell_type": "code",
   "execution_count": 1,
   "id": "3874830a",
   "metadata": {},
   "outputs": [
    {
     "data": {
      "application/vnd.microsoft.datawrangler.viewer.v0+json": {
       "columns": [
        {
         "name": "index",
         "rawType": "int64",
         "type": "integer"
        },
        {
         "name": "Date",
         "rawType": "object",
         "type": "string"
        },
        {
         "name": "Workout Name",
         "rawType": "object",
         "type": "string"
        },
        {
         "name": "Duration",
         "rawType": "object",
         "type": "string"
        },
        {
         "name": "Exercise Name",
         "rawType": "object",
         "type": "string"
        },
        {
         "name": "Set Order",
         "rawType": "int64",
         "type": "integer"
        },
        {
         "name": "Weight",
         "rawType": "float64",
         "type": "float"
        },
        {
         "name": "Reps",
         "rawType": "int64",
         "type": "integer"
        },
        {
         "name": "Distance",
         "rawType": "int64",
         "type": "integer"
        },
        {
         "name": "Seconds",
         "rawType": "int64",
         "type": "integer"
        },
        {
         "name": "Notes",
         "rawType": "object",
         "type": "unknown"
        },
        {
         "name": "Workout Notes",
         "rawType": "object",
         "type": "unknown"
        },
        {
         "name": "RPE",
         "rawType": "float64",
         "type": "float"
        }
       ],
       "conversionMethod": "pd.DataFrame",
       "ref": "14e47970-a7a2-4a4c-b815-f44df2a47c12",
       "rows": [
        [
         "0",
         "2020-12-17 15:41:31",
         "Legs",
         "54h 3m",
         "Squat (Barbell)",
         "1",
         "96.0",
         "65",
         "0",
         "0",
         null,
         null,
         null
        ],
        [
         "1",
         "2021-07-01 12:17:58",
         "Fierce 5 A",
         "1m",
         "Hip Thrust (Barbell)",
         "1",
         "20.0",
         "10",
         "0",
         "0",
         null,
         null,
         null
        ],
        [
         "2",
         "2021-07-01 12:17:58",
         "Fierce 5 A",
         "1m",
         "Hip Thrust (Barbell)",
         "2",
         "20.0",
         "10",
         "0",
         "0",
         null,
         null,
         null
        ],
        [
         "3",
         "2021-07-01 12:17:58",
         "Fierce 5 A",
         "1m",
         "Hip Thrust (Barbell)",
         "3",
         "20.0",
         "10",
         "0",
         "0",
         null,
         null,
         null
        ],
        [
         "4",
         "2021-07-01 12:17:58",
         "Fierce 5 A",
         "1m",
         "Hip Thrust (Barbell)",
         "4",
         "20.0",
         "10",
         "0",
         "0",
         null,
         null,
         null
        ],
        [
         "5",
         "2021-07-01 21:09:13",
         "Fierce 5 A",
         "39m",
         "Squat (Barbell)",
         "1",
         "65.0",
         "5",
         "0",
         "0",
         null,
         null,
         null
        ],
        [
         "6",
         "2021-07-01 21:09:13",
         "Fierce 5 A",
         "39m",
         "Squat (Barbell)",
         "2",
         "65.0",
         "5",
         "0",
         "0",
         null,
         null,
         null
        ],
        [
         "7",
         "2021-07-01 21:09:13",
         "Fierce 5 A",
         "39m",
         "Squat (Barbell)",
         "3",
         "65.0",
         "5",
         "0",
         "0",
         null,
         null,
         null
        ],
        [
         "8",
         "2021-07-01 21:09:13",
         "Fierce 5 A",
         "39m",
         "Bench Press (Barbell)",
         "1",
         "45.0",
         "5",
         "0",
         "0",
         null,
         null,
         null
        ],
        [
         "9",
         "2021-07-01 21:09:13",
         "Fierce 5 A",
         "39m",
         "Bench Press (Barbell)",
         "2",
         "45.0",
         "5",
         "0",
         "0",
         null,
         null,
         null
        ],
        [
         "10",
         "2021-07-01 21:09:13",
         "Fierce 5 A",
         "39m",
         "Bench Press (Barbell)",
         "3",
         "45.0",
         "5",
         "0",
         "0",
         null,
         null,
         null
        ],
        [
         "11",
         "2021-07-05 21:24:00",
         "Fierce 5 A",
         "1h 1m",
         "Bench Press (Barbell)",
         "1",
         "45.0",
         "5",
         "0",
         "0",
         "Omg too heavy ",
         null,
         null
        ],
        [
         "12",
         "2021-07-05 21:24:00",
         "Fierce 5 A",
         "1h 1m",
         "Bench Press (Barbell)",
         "2",
         "45.0",
         "5",
         "0",
         "0",
         null,
         null,
         null
        ],
        [
         "13",
         "2021-07-05 21:24:00",
         "Fierce 5 A",
         "1h 1m",
         "Bench Press (Barbell)",
         "3",
         "45.0",
         "5",
         "0",
         "0",
         null,
         null,
         null
        ],
        [
         "14",
         "2021-07-05 21:24:00",
         "Fierce 5 A",
         "1h 1m",
         "Squat (Barbell)",
         "1",
         "65.0",
         "5",
         "0",
         "0",
         null,
         null,
         null
        ],
        [
         "15",
         "2021-07-05 21:24:00",
         "Fierce 5 A",
         "1h 1m",
         "Squat (Barbell)",
         "2",
         "65.0",
         "5",
         "0",
         "0",
         null,
         null,
         null
        ],
        [
         "16",
         "2021-07-05 21:24:00",
         "Fierce 5 A",
         "1h 1m",
         "Squat (Barbell)",
         "3",
         "65.0",
         "5",
         "0",
         "0",
         null,
         null,
         null
        ],
        [
         "17",
         "2021-07-05 21:24:00",
         "Fierce 5 A",
         "1h 1m",
         "Pendlay Row (Barbell)",
         "1",
         "40.0",
         "5",
         "0",
         "0",
         null,
         null,
         null
        ],
        [
         "18",
         "2021-07-05 21:24:00",
         "Fierce 5 A",
         "1h 1m",
         "Pendlay Row (Barbell)",
         "2",
         "40.0",
         "5",
         "0",
         "0",
         null,
         null,
         null
        ],
        [
         "19",
         "2021-07-05 21:24:00",
         "Fierce 5 A",
         "1h 1m",
         "Pendlay Row (Barbell)",
         "3",
         "40.0",
         "5",
         "0",
         "0",
         null,
         null,
         null
        ],
        [
         "20",
         "2021-07-05 21:24:00",
         "Fierce 5 A",
         "1h 1m",
         "Standing Calf Raise (Machine)",
         "1",
         "45.0",
         "15",
         "0",
         "0",
         null,
         null,
         null
        ],
        [
         "21",
         "2021-07-05 21:24:00",
         "Fierce 5 A",
         "1h 1m",
         "Standing Calf Raise (Machine)",
         "2",
         "45.0",
         "10",
         "0",
         "0",
         null,
         null,
         null
        ],
        [
         "22",
         "2021-07-05 21:24:00",
         "Fierce 5 A",
         "1h 1m",
         "Triceps Pushdown (Cable - Straight Bar)",
         "1",
         "8.0",
         "10",
         "0",
         "0",
         null,
         null,
         null
        ],
        [
         "23",
         "2021-07-05 21:24:00",
         "Fierce 5 A",
         "1h 1m",
         "Triceps Pushdown (Cable - Straight Bar)",
         "2",
         "8.0",
         "10",
         "0",
         "0",
         null,
         null,
         null
        ],
        [
         "24",
         "2021-07-15 21:30:07",
         "Fierce 5 A",
         "40m",
         "Squat (Barbell)",
         "1",
         "65.0",
         "5",
         "0",
         "0",
         null,
         null,
         null
        ],
        [
         "25",
         "2021-07-15 21:30:07",
         "Fierce 5 A",
         "40m",
         "Squat (Barbell)",
         "2",
         "65.0",
         "5",
         "0",
         "0",
         null,
         null,
         null
        ],
        [
         "26",
         "2021-07-15 21:30:07",
         "Fierce 5 A",
         "40m",
         "Squat (Barbell)",
         "3",
         "65.0",
         "5",
         "0",
         "0",
         null,
         null,
         null
        ],
        [
         "27",
         "2021-07-15 21:30:07",
         "Fierce 5 A",
         "40m",
         "Bench Press (Barbell)",
         "1",
         "45.0",
         "5",
         "0",
         "0",
         null,
         null,
         null
        ],
        [
         "28",
         "2021-07-15 21:30:07",
         "Fierce 5 A",
         "40m",
         "Bench Press (Barbell)",
         "2",
         "45.0",
         "5",
         "0",
         "0",
         null,
         null,
         null
        ],
        [
         "29",
         "2021-07-15 21:30:07",
         "Fierce 5 A",
         "40m",
         "Bench Press (Barbell)",
         "3",
         "45.0",
         "5",
         "0",
         "0",
         null,
         null,
         null
        ],
        [
         "30",
         "2021-07-15 21:30:07",
         "Fierce 5 A",
         "40m",
         "Seated Row (Cable)",
         "1",
         "27.5",
         "8",
         "0",
         "0",
         null,
         null,
         null
        ],
        [
         "31",
         "2021-07-15 21:30:07",
         "Fierce 5 A",
         "40m",
         "Seated Row (Cable)",
         "2",
         "35.0",
         "12",
         "0",
         "0",
         null,
         null,
         null
        ],
        [
         "32",
         "2021-07-15 21:30:07",
         "Fierce 5 A",
         "40m",
         "Seated Row (Cable)",
         "3",
         "35.0",
         "10",
         "0",
         "0",
         null,
         null,
         null
        ],
        [
         "33",
         "2021-07-15 21:30:07",
         "Fierce 5 A",
         "40m",
         "Standing Calf Raise (Machine)",
         "1",
         "37.5",
         "15",
         "0",
         "0",
         null,
         null,
         null
        ],
        [
         "34",
         "2021-07-15 21:30:07",
         "Fierce 5 A",
         "40m",
         "Standing Calf Raise (Machine)",
         "2",
         "37.5",
         "13",
         "0",
         "0",
         null,
         null,
         null
        ],
        [
         "35",
         "2021-07-15 21:30:07",
         "Fierce 5 A",
         "40m",
         "Triceps Pushdown (Cable - Straight Bar)",
         "1",
         "10.0",
         "12",
         "0",
         "0",
         null,
         null,
         null
        ],
        [
         "36",
         "2021-07-15 21:30:07",
         "Fierce 5 A",
         "40m",
         "Triceps Pushdown (Cable - Straight Bar)",
         "2",
         "10.0",
         "12",
         "0",
         "0",
         null,
         null,
         null
        ],
        [
         "37",
         "2021-07-15 21:30:07",
         "Fierce 5 A",
         "40m",
         "Triceps Pushdown (Cable - Straight Bar)",
         "3",
         "10.0",
         "8",
         "0",
         "0",
         null,
         null,
         null
        ],
        [
         "38",
         "2021-07-17 18:25:41",
         "Fierce 5 B",
         "1h 6m",
         "Deadlift (Barbell)",
         "1",
         "65.0",
         "5",
         "0",
         "0",
         "Did a warm up set of 40kg x6 reps I think ",
         null,
         null
        ],
        [
         "39",
         "2021-07-17 18:25:41",
         "Fierce 5 B",
         "1h 6m",
         "Deadlift (Barbell)",
         "2",
         "65.0",
         "5",
         "0",
         "0",
         null,
         null,
         null
        ],
        [
         "40",
         "2021-07-17 18:25:41",
         "Fierce 5 B",
         "1h 6m",
         "Deadlift (Barbell)",
         "3",
         "65.0",
         "5",
         "0",
         "0",
         null,
         null,
         null
        ],
        [
         "41",
         "2021-07-17 18:25:41",
         "Fierce 5 B",
         "1h 6m",
         "Overhead Press (Barbell)",
         "1",
         "32.5",
         "5",
         "0",
         "0",
         null,
         null,
         null
        ],
        [
         "42",
         "2021-07-17 18:25:41",
         "Fierce 5 B",
         "1h 6m",
         "Overhead Press (Barbell)",
         "2",
         "32.5",
         "5",
         "0",
         "0",
         null,
         null,
         null
        ],
        [
         "43",
         "2021-07-17 18:25:41",
         "Fierce 5 B",
         "1h 6m",
         "Overhead Press (Barbell)",
         "3",
         "32.5",
         "5",
         "0",
         "0",
         null,
         null,
         null
        ],
        [
         "44",
         "2021-07-17 18:25:41",
         "Fierce 5 B",
         "1h 6m",
         "Lying Leg Curl (Machine)",
         "1",
         "5.0",
         "12",
         "0",
         "0",
         null,
         null,
         null
        ],
        [
         "45",
         "2021-07-17 18:25:41",
         "Fierce 5 B",
         "1h 6m",
         "Lying Leg Curl (Machine)",
         "2",
         "7.5",
         "12",
         "0",
         "0",
         null,
         null,
         null
        ],
        [
         "46",
         "2021-07-17 18:25:41",
         "Fierce 5 B",
         "1h 6m",
         "Lying Leg Curl (Machine)",
         "3",
         "7.5",
         "8",
         "0",
         "0",
         null,
         null,
         null
        ],
        [
         "47",
         "2021-07-17 18:25:41",
         "Fierce 5 B",
         "1h 6m",
         "Lat Pulldown (Cable)",
         "1",
         "35.5",
         "8",
         "0",
         "0",
         null,
         null,
         null
        ],
        [
         "48",
         "2021-07-17 18:25:41",
         "Fierce 5 B",
         "1h 6m",
         "Lat Pulldown (Cable)",
         "2",
         "38.0",
         "9",
         "0",
         "0",
         null,
         null,
         null
        ],
        [
         "49",
         "2021-07-17 18:25:41",
         "Fierce 5 B",
         "1h 6m",
         "Lat Pulldown (Cable)",
         "3",
         "38.0",
         "8",
         "0",
         "0",
         null,
         null,
         null
        ]
       ],
       "shape": {
        "columns": 12,
        "rows": 3560
       }
      },
      "text/html": [
       "<div>\n",
       "<style scoped>\n",
       "    .dataframe tbody tr th:only-of-type {\n",
       "        vertical-align: middle;\n",
       "    }\n",
       "\n",
       "    .dataframe tbody tr th {\n",
       "        vertical-align: top;\n",
       "    }\n",
       "\n",
       "    .dataframe thead th {\n",
       "        text-align: right;\n",
       "    }\n",
       "</style>\n",
       "<table border=\"1\" class=\"dataframe\">\n",
       "  <thead>\n",
       "    <tr style=\"text-align: right;\">\n",
       "      <th></th>\n",
       "      <th>Date</th>\n",
       "      <th>Workout Name</th>\n",
       "      <th>Duration</th>\n",
       "      <th>Exercise Name</th>\n",
       "      <th>Set Order</th>\n",
       "      <th>Weight</th>\n",
       "      <th>Reps</th>\n",
       "      <th>Distance</th>\n",
       "      <th>Seconds</th>\n",
       "      <th>Notes</th>\n",
       "      <th>Workout Notes</th>\n",
       "      <th>RPE</th>\n",
       "    </tr>\n",
       "  </thead>\n",
       "  <tbody>\n",
       "    <tr>\n",
       "      <th>0</th>\n",
       "      <td>2020-12-17 15:41:31</td>\n",
       "      <td>Legs</td>\n",
       "      <td>54h 3m</td>\n",
       "      <td>Squat (Barbell)</td>\n",
       "      <td>1</td>\n",
       "      <td>96.0</td>\n",
       "      <td>65</td>\n",
       "      <td>0</td>\n",
       "      <td>0</td>\n",
       "      <td>NaN</td>\n",
       "      <td>NaN</td>\n",
       "      <td>NaN</td>\n",
       "    </tr>\n",
       "    <tr>\n",
       "      <th>1</th>\n",
       "      <td>2021-07-01 12:17:58</td>\n",
       "      <td>Fierce 5 A</td>\n",
       "      <td>1m</td>\n",
       "      <td>Hip Thrust (Barbell)</td>\n",
       "      <td>1</td>\n",
       "      <td>20.0</td>\n",
       "      <td>10</td>\n",
       "      <td>0</td>\n",
       "      <td>0</td>\n",
       "      <td>NaN</td>\n",
       "      <td>NaN</td>\n",
       "      <td>NaN</td>\n",
       "    </tr>\n",
       "    <tr>\n",
       "      <th>2</th>\n",
       "      <td>2021-07-01 12:17:58</td>\n",
       "      <td>Fierce 5 A</td>\n",
       "      <td>1m</td>\n",
       "      <td>Hip Thrust (Barbell)</td>\n",
       "      <td>2</td>\n",
       "      <td>20.0</td>\n",
       "      <td>10</td>\n",
       "      <td>0</td>\n",
       "      <td>0</td>\n",
       "      <td>NaN</td>\n",
       "      <td>NaN</td>\n",
       "      <td>NaN</td>\n",
       "    </tr>\n",
       "    <tr>\n",
       "      <th>3</th>\n",
       "      <td>2021-07-01 12:17:58</td>\n",
       "      <td>Fierce 5 A</td>\n",
       "      <td>1m</td>\n",
       "      <td>Hip Thrust (Barbell)</td>\n",
       "      <td>3</td>\n",
       "      <td>20.0</td>\n",
       "      <td>10</td>\n",
       "      <td>0</td>\n",
       "      <td>0</td>\n",
       "      <td>NaN</td>\n",
       "      <td>NaN</td>\n",
       "      <td>NaN</td>\n",
       "    </tr>\n",
       "    <tr>\n",
       "      <th>4</th>\n",
       "      <td>2021-07-01 12:17:58</td>\n",
       "      <td>Fierce 5 A</td>\n",
       "      <td>1m</td>\n",
       "      <td>Hip Thrust (Barbell)</td>\n",
       "      <td>4</td>\n",
       "      <td>20.0</td>\n",
       "      <td>10</td>\n",
       "      <td>0</td>\n",
       "      <td>0</td>\n",
       "      <td>NaN</td>\n",
       "      <td>NaN</td>\n",
       "      <td>NaN</td>\n",
       "    </tr>\n",
       "    <tr>\n",
       "      <th>...</th>\n",
       "      <td>...</td>\n",
       "      <td>...</td>\n",
       "      <td>...</td>\n",
       "      <td>...</td>\n",
       "      <td>...</td>\n",
       "      <td>...</td>\n",
       "      <td>...</td>\n",
       "      <td>...</td>\n",
       "      <td>...</td>\n",
       "      <td>...</td>\n",
       "      <td>...</td>\n",
       "      <td>...</td>\n",
       "    </tr>\n",
       "    <tr>\n",
       "      <th>3555</th>\n",
       "      <td>2025-04-07 20:45:11</td>\n",
       "      <td>RF Upper A</td>\n",
       "      <td>22h 44m</td>\n",
       "      <td>Crunch (Machine)</td>\n",
       "      <td>2</td>\n",
       "      <td>32.0</td>\n",
       "      <td>9</td>\n",
       "      <td>0</td>\n",
       "      <td>0</td>\n",
       "      <td>NaN</td>\n",
       "      <td>NaN</td>\n",
       "      <td>NaN</td>\n",
       "    </tr>\n",
       "    <tr>\n",
       "      <th>3556</th>\n",
       "      <td>2025-04-07 20:45:11</td>\n",
       "      <td>RF Upper A</td>\n",
       "      <td>22h 44m</td>\n",
       "      <td>Crunch (Machine)</td>\n",
       "      <td>3</td>\n",
       "      <td>32.0</td>\n",
       "      <td>9</td>\n",
       "      <td>0</td>\n",
       "      <td>0</td>\n",
       "      <td>NaN</td>\n",
       "      <td>NaN</td>\n",
       "      <td>NaN</td>\n",
       "    </tr>\n",
       "    <tr>\n",
       "      <th>3557</th>\n",
       "      <td>2025-04-07 20:45:11</td>\n",
       "      <td>RF Upper A</td>\n",
       "      <td>22h 44m</td>\n",
       "      <td>Flat Leg Raise</td>\n",
       "      <td>1</td>\n",
       "      <td>0.0</td>\n",
       "      <td>0</td>\n",
       "      <td>0</td>\n",
       "      <td>0</td>\n",
       "      <td>NaN</td>\n",
       "      <td>NaN</td>\n",
       "      <td>NaN</td>\n",
       "    </tr>\n",
       "    <tr>\n",
       "      <th>3558</th>\n",
       "      <td>2025-04-07 20:45:11</td>\n",
       "      <td>RF Upper A</td>\n",
       "      <td>22h 44m</td>\n",
       "      <td>Flat Leg Raise</td>\n",
       "      <td>2</td>\n",
       "      <td>0.0</td>\n",
       "      <td>0</td>\n",
       "      <td>0</td>\n",
       "      <td>0</td>\n",
       "      <td>NaN</td>\n",
       "      <td>NaN</td>\n",
       "      <td>NaN</td>\n",
       "    </tr>\n",
       "    <tr>\n",
       "      <th>3559</th>\n",
       "      <td>2025-04-07 20:45:11</td>\n",
       "      <td>RF Upper A</td>\n",
       "      <td>22h 44m</td>\n",
       "      <td>Flat Leg Raise</td>\n",
       "      <td>3</td>\n",
       "      <td>0.0</td>\n",
       "      <td>0</td>\n",
       "      <td>0</td>\n",
       "      <td>0</td>\n",
       "      <td>NaN</td>\n",
       "      <td>NaN</td>\n",
       "      <td>NaN</td>\n",
       "    </tr>\n",
       "  </tbody>\n",
       "</table>\n",
       "<p>3560 rows × 12 columns</p>\n",
       "</div>"
      ],
      "text/plain": [
       "                     Date Workout Name Duration         Exercise Name  \\\n",
       "0     2020-12-17 15:41:31         Legs   54h 3m       Squat (Barbell)   \n",
       "1     2021-07-01 12:17:58   Fierce 5 A       1m  Hip Thrust (Barbell)   \n",
       "2     2021-07-01 12:17:58   Fierce 5 A       1m  Hip Thrust (Barbell)   \n",
       "3     2021-07-01 12:17:58   Fierce 5 A       1m  Hip Thrust (Barbell)   \n",
       "4     2021-07-01 12:17:58   Fierce 5 A       1m  Hip Thrust (Barbell)   \n",
       "...                   ...          ...      ...                   ...   \n",
       "3555  2025-04-07 20:45:11   RF Upper A  22h 44m      Crunch (Machine)   \n",
       "3556  2025-04-07 20:45:11   RF Upper A  22h 44m      Crunch (Machine)   \n",
       "3557  2025-04-07 20:45:11   RF Upper A  22h 44m        Flat Leg Raise   \n",
       "3558  2025-04-07 20:45:11   RF Upper A  22h 44m        Flat Leg Raise   \n",
       "3559  2025-04-07 20:45:11   RF Upper A  22h 44m        Flat Leg Raise   \n",
       "\n",
       "      Set Order  Weight  Reps  Distance  Seconds Notes Workout Notes  RPE  \n",
       "0             1    96.0    65         0        0   NaN           NaN  NaN  \n",
       "1             1    20.0    10         0        0   NaN           NaN  NaN  \n",
       "2             2    20.0    10         0        0   NaN           NaN  NaN  \n",
       "3             3    20.0    10         0        0   NaN           NaN  NaN  \n",
       "4             4    20.0    10         0        0   NaN           NaN  NaN  \n",
       "...         ...     ...   ...       ...      ...   ...           ...  ...  \n",
       "3555          2    32.0     9         0        0   NaN           NaN  NaN  \n",
       "3556          3    32.0     9         0        0   NaN           NaN  NaN  \n",
       "3557          1     0.0     0         0        0   NaN           NaN  NaN  \n",
       "3558          2     0.0     0         0        0   NaN           NaN  NaN  \n",
       "3559          3     0.0     0         0        0   NaN           NaN  NaN  \n",
       "\n",
       "[3560 rows x 12 columns]"
      ]
     },
     "execution_count": 1,
     "metadata": {},
     "output_type": "execute_result"
    }
   ],
   "source": [
    "# pip install pandas\n",
    "import pandas as pd\n",
    "\n",
    "file = '../data/strong.csv'\n",
    "df = pd.read_csv(file)\n",
    "df"
   ]
  },
  {
   "cell_type": "code",
   "execution_count": 2,
   "id": "c7e62f57",
   "metadata": {},
   "outputs": [],
   "source": [
    "\n",
    "# Removing columns that I don't need. \n",
    "df = df.drop(columns=[\"Duration\", \"Distance\", \"Seconds\", \"Notes\", \"Workout Notes\", \"RPE\"])\n"
   ]
  },
  {
   "cell_type": "code",
   "execution_count": 3,
   "id": "187bb27a",
   "metadata": {},
   "outputs": [
    {
     "data": {
      "application/vnd.microsoft.datawrangler.viewer.v0+json": {
       "columns": [
        {
         "name": "index",
         "rawType": "int64",
         "type": "integer"
        },
        {
         "name": "Date",
         "rawType": "object",
         "type": "string"
        },
        {
         "name": "Workout Name",
         "rawType": "object",
         "type": "string"
        },
        {
         "name": "Exercise Name",
         "rawType": "object",
         "type": "string"
        },
        {
         "name": "Set Order",
         "rawType": "int64",
         "type": "integer"
        },
        {
         "name": "Weight",
         "rawType": "float64",
         "type": "float"
        },
        {
         "name": "Reps",
         "rawType": "int64",
         "type": "integer"
        }
       ],
       "conversionMethod": "pd.DataFrame",
       "ref": "d8c2aa78-93a1-4051-85b7-afdb8c940bac",
       "rows": [
        [
         "0",
         "2020-12-17 15:41:31",
         "Legs",
         "Squat (Barbell)",
         "1",
         "96.0",
         "65"
        ],
        [
         "1",
         "2021-07-01 12:17:58",
         "Fierce 5 A",
         "Hip Thrust (Barbell)",
         "1",
         "20.0",
         "10"
        ],
        [
         "2",
         "2021-07-01 12:17:58",
         "Fierce 5 A",
         "Hip Thrust (Barbell)",
         "2",
         "20.0",
         "10"
        ],
        [
         "3",
         "2021-07-01 12:17:58",
         "Fierce 5 A",
         "Hip Thrust (Barbell)",
         "3",
         "20.0",
         "10"
        ],
        [
         "4",
         "2021-07-01 12:17:58",
         "Fierce 5 A",
         "Hip Thrust (Barbell)",
         "4",
         "20.0",
         "10"
        ],
        [
         "5",
         "2021-07-01 21:09:13",
         "Fierce 5 A",
         "Squat (Barbell)",
         "1",
         "65.0",
         "5"
        ],
        [
         "6",
         "2021-07-01 21:09:13",
         "Fierce 5 A",
         "Squat (Barbell)",
         "2",
         "65.0",
         "5"
        ],
        [
         "7",
         "2021-07-01 21:09:13",
         "Fierce 5 A",
         "Squat (Barbell)",
         "3",
         "65.0",
         "5"
        ],
        [
         "8",
         "2021-07-01 21:09:13",
         "Fierce 5 A",
         "Bench Press (Barbell)",
         "1",
         "45.0",
         "5"
        ],
        [
         "9",
         "2021-07-01 21:09:13",
         "Fierce 5 A",
         "Bench Press (Barbell)",
         "2",
         "45.0",
         "5"
        ],
        [
         "10",
         "2021-07-01 21:09:13",
         "Fierce 5 A",
         "Bench Press (Barbell)",
         "3",
         "45.0",
         "5"
        ],
        [
         "11",
         "2021-07-05 21:24:00",
         "Fierce 5 A",
         "Bench Press (Barbell)",
         "1",
         "45.0",
         "5"
        ],
        [
         "12",
         "2021-07-05 21:24:00",
         "Fierce 5 A",
         "Bench Press (Barbell)",
         "2",
         "45.0",
         "5"
        ],
        [
         "13",
         "2021-07-05 21:24:00",
         "Fierce 5 A",
         "Bench Press (Barbell)",
         "3",
         "45.0",
         "5"
        ],
        [
         "14",
         "2021-07-05 21:24:00",
         "Fierce 5 A",
         "Squat (Barbell)",
         "1",
         "65.0",
         "5"
        ],
        [
         "15",
         "2021-07-05 21:24:00",
         "Fierce 5 A",
         "Squat (Barbell)",
         "2",
         "65.0",
         "5"
        ],
        [
         "16",
         "2021-07-05 21:24:00",
         "Fierce 5 A",
         "Squat (Barbell)",
         "3",
         "65.0",
         "5"
        ],
        [
         "17",
         "2021-07-05 21:24:00",
         "Fierce 5 A",
         "Pendlay Row (Barbell)",
         "1",
         "40.0",
         "5"
        ],
        [
         "18",
         "2021-07-05 21:24:00",
         "Fierce 5 A",
         "Pendlay Row (Barbell)",
         "2",
         "40.0",
         "5"
        ],
        [
         "19",
         "2021-07-05 21:24:00",
         "Fierce 5 A",
         "Pendlay Row (Barbell)",
         "3",
         "40.0",
         "5"
        ],
        [
         "20",
         "2021-07-05 21:24:00",
         "Fierce 5 A",
         "Standing Calf Raise (Machine)",
         "1",
         "45.0",
         "15"
        ],
        [
         "21",
         "2021-07-05 21:24:00",
         "Fierce 5 A",
         "Standing Calf Raise (Machine)",
         "2",
         "45.0",
         "10"
        ],
        [
         "22",
         "2021-07-05 21:24:00",
         "Fierce 5 A",
         "Triceps Pushdown (Cable - Straight Bar)",
         "1",
         "8.0",
         "10"
        ],
        [
         "23",
         "2021-07-05 21:24:00",
         "Fierce 5 A",
         "Triceps Pushdown (Cable - Straight Bar)",
         "2",
         "8.0",
         "10"
        ],
        [
         "24",
         "2021-07-15 21:30:07",
         "Fierce 5 A",
         "Squat (Barbell)",
         "1",
         "65.0",
         "5"
        ],
        [
         "25",
         "2021-07-15 21:30:07",
         "Fierce 5 A",
         "Squat (Barbell)",
         "2",
         "65.0",
         "5"
        ],
        [
         "26",
         "2021-07-15 21:30:07",
         "Fierce 5 A",
         "Squat (Barbell)",
         "3",
         "65.0",
         "5"
        ],
        [
         "27",
         "2021-07-15 21:30:07",
         "Fierce 5 A",
         "Bench Press (Barbell)",
         "1",
         "45.0",
         "5"
        ],
        [
         "28",
         "2021-07-15 21:30:07",
         "Fierce 5 A",
         "Bench Press (Barbell)",
         "2",
         "45.0",
         "5"
        ],
        [
         "29",
         "2021-07-15 21:30:07",
         "Fierce 5 A",
         "Bench Press (Barbell)",
         "3",
         "45.0",
         "5"
        ],
        [
         "30",
         "2021-07-15 21:30:07",
         "Fierce 5 A",
         "Seated Row (Cable)",
         "1",
         "27.5",
         "8"
        ],
        [
         "31",
         "2021-07-15 21:30:07",
         "Fierce 5 A",
         "Seated Row (Cable)",
         "2",
         "35.0",
         "12"
        ],
        [
         "32",
         "2021-07-15 21:30:07",
         "Fierce 5 A",
         "Seated Row (Cable)",
         "3",
         "35.0",
         "10"
        ],
        [
         "33",
         "2021-07-15 21:30:07",
         "Fierce 5 A",
         "Standing Calf Raise (Machine)",
         "1",
         "37.5",
         "15"
        ],
        [
         "34",
         "2021-07-15 21:30:07",
         "Fierce 5 A",
         "Standing Calf Raise (Machine)",
         "2",
         "37.5",
         "13"
        ],
        [
         "35",
         "2021-07-15 21:30:07",
         "Fierce 5 A",
         "Triceps Pushdown (Cable - Straight Bar)",
         "1",
         "10.0",
         "12"
        ],
        [
         "36",
         "2021-07-15 21:30:07",
         "Fierce 5 A",
         "Triceps Pushdown (Cable - Straight Bar)",
         "2",
         "10.0",
         "12"
        ],
        [
         "37",
         "2021-07-15 21:30:07",
         "Fierce 5 A",
         "Triceps Pushdown (Cable - Straight Bar)",
         "3",
         "10.0",
         "8"
        ],
        [
         "38",
         "2021-07-17 18:25:41",
         "Fierce 5 B",
         "Deadlift (Barbell)",
         "1",
         "65.0",
         "5"
        ],
        [
         "39",
         "2021-07-17 18:25:41",
         "Fierce 5 B",
         "Deadlift (Barbell)",
         "2",
         "65.0",
         "5"
        ],
        [
         "40",
         "2021-07-17 18:25:41",
         "Fierce 5 B",
         "Deadlift (Barbell)",
         "3",
         "65.0",
         "5"
        ],
        [
         "41",
         "2021-07-17 18:25:41",
         "Fierce 5 B",
         "Overhead Press (Barbell)",
         "1",
         "32.5",
         "5"
        ],
        [
         "42",
         "2021-07-17 18:25:41",
         "Fierce 5 B",
         "Overhead Press (Barbell)",
         "2",
         "32.5",
         "5"
        ],
        [
         "43",
         "2021-07-17 18:25:41",
         "Fierce 5 B",
         "Overhead Press (Barbell)",
         "3",
         "32.5",
         "5"
        ],
        [
         "44",
         "2021-07-17 18:25:41",
         "Fierce 5 B",
         "Lying Leg Curl (Machine)",
         "1",
         "5.0",
         "12"
        ],
        [
         "45",
         "2021-07-17 18:25:41",
         "Fierce 5 B",
         "Lying Leg Curl (Machine)",
         "2",
         "7.5",
         "12"
        ],
        [
         "46",
         "2021-07-17 18:25:41",
         "Fierce 5 B",
         "Lying Leg Curl (Machine)",
         "3",
         "7.5",
         "8"
        ],
        [
         "47",
         "2021-07-17 18:25:41",
         "Fierce 5 B",
         "Lat Pulldown (Cable)",
         "1",
         "35.5",
         "8"
        ],
        [
         "48",
         "2021-07-17 18:25:41",
         "Fierce 5 B",
         "Lat Pulldown (Cable)",
         "2",
         "38.0",
         "9"
        ],
        [
         "49",
         "2021-07-17 18:25:41",
         "Fierce 5 B",
         "Lat Pulldown (Cable)",
         "3",
         "38.0",
         "8"
        ]
       ],
       "shape": {
        "columns": 6,
        "rows": 3560
       }
      },
      "text/html": [
       "<div>\n",
       "<style scoped>\n",
       "    .dataframe tbody tr th:only-of-type {\n",
       "        vertical-align: middle;\n",
       "    }\n",
       "\n",
       "    .dataframe tbody tr th {\n",
       "        vertical-align: top;\n",
       "    }\n",
       "\n",
       "    .dataframe thead th {\n",
       "        text-align: right;\n",
       "    }\n",
       "</style>\n",
       "<table border=\"1\" class=\"dataframe\">\n",
       "  <thead>\n",
       "    <tr style=\"text-align: right;\">\n",
       "      <th></th>\n",
       "      <th>Date</th>\n",
       "      <th>Workout Name</th>\n",
       "      <th>Exercise Name</th>\n",
       "      <th>Set Order</th>\n",
       "      <th>Weight</th>\n",
       "      <th>Reps</th>\n",
       "    </tr>\n",
       "  </thead>\n",
       "  <tbody>\n",
       "    <tr>\n",
       "      <th>0</th>\n",
       "      <td>2020-12-17 15:41:31</td>\n",
       "      <td>Legs</td>\n",
       "      <td>Squat (Barbell)</td>\n",
       "      <td>1</td>\n",
       "      <td>96.0</td>\n",
       "      <td>65</td>\n",
       "    </tr>\n",
       "    <tr>\n",
       "      <th>1</th>\n",
       "      <td>2021-07-01 12:17:58</td>\n",
       "      <td>Fierce 5 A</td>\n",
       "      <td>Hip Thrust (Barbell)</td>\n",
       "      <td>1</td>\n",
       "      <td>20.0</td>\n",
       "      <td>10</td>\n",
       "    </tr>\n",
       "    <tr>\n",
       "      <th>2</th>\n",
       "      <td>2021-07-01 12:17:58</td>\n",
       "      <td>Fierce 5 A</td>\n",
       "      <td>Hip Thrust (Barbell)</td>\n",
       "      <td>2</td>\n",
       "      <td>20.0</td>\n",
       "      <td>10</td>\n",
       "    </tr>\n",
       "    <tr>\n",
       "      <th>3</th>\n",
       "      <td>2021-07-01 12:17:58</td>\n",
       "      <td>Fierce 5 A</td>\n",
       "      <td>Hip Thrust (Barbell)</td>\n",
       "      <td>3</td>\n",
       "      <td>20.0</td>\n",
       "      <td>10</td>\n",
       "    </tr>\n",
       "    <tr>\n",
       "      <th>4</th>\n",
       "      <td>2021-07-01 12:17:58</td>\n",
       "      <td>Fierce 5 A</td>\n",
       "      <td>Hip Thrust (Barbell)</td>\n",
       "      <td>4</td>\n",
       "      <td>20.0</td>\n",
       "      <td>10</td>\n",
       "    </tr>\n",
       "    <tr>\n",
       "      <th>...</th>\n",
       "      <td>...</td>\n",
       "      <td>...</td>\n",
       "      <td>...</td>\n",
       "      <td>...</td>\n",
       "      <td>...</td>\n",
       "      <td>...</td>\n",
       "    </tr>\n",
       "    <tr>\n",
       "      <th>3555</th>\n",
       "      <td>2025-04-07 20:45:11</td>\n",
       "      <td>RF Upper A</td>\n",
       "      <td>Crunch (Machine)</td>\n",
       "      <td>2</td>\n",
       "      <td>32.0</td>\n",
       "      <td>9</td>\n",
       "    </tr>\n",
       "    <tr>\n",
       "      <th>3556</th>\n",
       "      <td>2025-04-07 20:45:11</td>\n",
       "      <td>RF Upper A</td>\n",
       "      <td>Crunch (Machine)</td>\n",
       "      <td>3</td>\n",
       "      <td>32.0</td>\n",
       "      <td>9</td>\n",
       "    </tr>\n",
       "    <tr>\n",
       "      <th>3557</th>\n",
       "      <td>2025-04-07 20:45:11</td>\n",
       "      <td>RF Upper A</td>\n",
       "      <td>Flat Leg Raise</td>\n",
       "      <td>1</td>\n",
       "      <td>0.0</td>\n",
       "      <td>0</td>\n",
       "    </tr>\n",
       "    <tr>\n",
       "      <th>3558</th>\n",
       "      <td>2025-04-07 20:45:11</td>\n",
       "      <td>RF Upper A</td>\n",
       "      <td>Flat Leg Raise</td>\n",
       "      <td>2</td>\n",
       "      <td>0.0</td>\n",
       "      <td>0</td>\n",
       "    </tr>\n",
       "    <tr>\n",
       "      <th>3559</th>\n",
       "      <td>2025-04-07 20:45:11</td>\n",
       "      <td>RF Upper A</td>\n",
       "      <td>Flat Leg Raise</td>\n",
       "      <td>3</td>\n",
       "      <td>0.0</td>\n",
       "      <td>0</td>\n",
       "    </tr>\n",
       "  </tbody>\n",
       "</table>\n",
       "<p>3560 rows × 6 columns</p>\n",
       "</div>"
      ],
      "text/plain": [
       "                     Date Workout Name         Exercise Name  Set Order  \\\n",
       "0     2020-12-17 15:41:31         Legs       Squat (Barbell)          1   \n",
       "1     2021-07-01 12:17:58   Fierce 5 A  Hip Thrust (Barbell)          1   \n",
       "2     2021-07-01 12:17:58   Fierce 5 A  Hip Thrust (Barbell)          2   \n",
       "3     2021-07-01 12:17:58   Fierce 5 A  Hip Thrust (Barbell)          3   \n",
       "4     2021-07-01 12:17:58   Fierce 5 A  Hip Thrust (Barbell)          4   \n",
       "...                   ...          ...                   ...        ...   \n",
       "3555  2025-04-07 20:45:11   RF Upper A      Crunch (Machine)          2   \n",
       "3556  2025-04-07 20:45:11   RF Upper A      Crunch (Machine)          3   \n",
       "3557  2025-04-07 20:45:11   RF Upper A        Flat Leg Raise          1   \n",
       "3558  2025-04-07 20:45:11   RF Upper A        Flat Leg Raise          2   \n",
       "3559  2025-04-07 20:45:11   RF Upper A        Flat Leg Raise          3   \n",
       "\n",
       "      Weight  Reps  \n",
       "0       96.0    65  \n",
       "1       20.0    10  \n",
       "2       20.0    10  \n",
       "3       20.0    10  \n",
       "4       20.0    10  \n",
       "...      ...   ...  \n",
       "3555    32.0     9  \n",
       "3556    32.0     9  \n",
       "3557     0.0     0  \n",
       "3558     0.0     0  \n",
       "3559     0.0     0  \n",
       "\n",
       "[3560 rows x 6 columns]"
      ]
     },
     "execution_count": 3,
     "metadata": {},
     "output_type": "execute_result"
    }
   ],
   "source": [
    "df"
   ]
  },
  {
   "cell_type": "code",
   "execution_count": 4,
   "id": "e9d791a7",
   "metadata": {},
   "outputs": [],
   "source": [
    "# Renaming columns names\n",
    "df.columns = ['date', 'workout_name', 'exercise_name' , 'set_order', 'weight', 'reps']\n"
   ]
  },
  {
   "cell_type": "code",
   "execution_count": 5,
   "id": "f881e491",
   "metadata": {},
   "outputs": [
    {
     "name": "stderr",
     "output_type": "stream",
     "text": [
      "/var/folders/zl/zkjxn_6x5856_16qp38bnl1w0000gn/T/ipykernel_24214/3011758890.py:6: SettingWithCopyWarning: \n",
      "A value is trying to be set on a copy of a slice from a DataFrame.\n",
      "Try using .loc[row_indexer,col_indexer] = value instead\n",
      "\n",
      "See the caveats in the documentation: https://pandas.pydata.org/pandas-docs/stable/user_guide/indexing.html#returning-a-view-versus-a-copy\n",
      "  df['set_id'] = df.index + 1\n"
     ]
    }
   ],
   "source": [
    "# Remove rows where reps = 0 \n",
    "df = df[df['reps'] != 0]\n",
    "\n",
    "\n",
    "# Turn the index into an id column\n",
    "df['set_id'] = df.index + 1\n"
   ]
  },
  {
   "cell_type": "code",
   "execution_count": 6,
   "id": "e59a2841",
   "metadata": {},
   "outputs": [],
   "source": [
    "# Renaming id to set_id\n",
    "#df = df.rename(columns={'id': 'set_id'})\n",
    "\n",
    "# This sets the index as id - but the index starts at 0\n",
    "#df = df.reset_index(names='set_id')\n"
   ]
  },
  {
   "cell_type": "code",
   "execution_count": 7,
   "id": "b6ad9121",
   "metadata": {},
   "outputs": [],
   "source": [
    "# ADDITIONAL ADJUSTMENTS \n",
    "\n",
    "# Remove rows where reps = 0 \n",
    "# df = df[df['reps'] != 0]\n",
    "\n",
    "# Drop duration as I dont need it. If I needed it I would have turned them all into hours\n"
   ]
  },
  {
   "cell_type": "code",
   "execution_count": 8,
   "id": "a80f9c54",
   "metadata": {},
   "outputs": [
    {
     "data": {
      "application/vnd.microsoft.datawrangler.viewer.v0+json": {
       "columns": [
        {
         "name": "index",
         "rawType": "int64",
         "type": "integer"
        },
        {
         "name": "date",
         "rawType": "object",
         "type": "string"
        },
        {
         "name": "workout_name",
         "rawType": "object",
         "type": "string"
        },
        {
         "name": "exercise_name",
         "rawType": "object",
         "type": "string"
        },
        {
         "name": "set_order",
         "rawType": "int64",
         "type": "integer"
        },
        {
         "name": "weight",
         "rawType": "float64",
         "type": "float"
        },
        {
         "name": "reps",
         "rawType": "int64",
         "type": "integer"
        },
        {
         "name": "set_id",
         "rawType": "int64",
         "type": "integer"
        }
       ],
       "conversionMethod": "pd.DataFrame",
       "ref": "41d7c9b8-4df8-4c8c-85a8-656102d9095d",
       "rows": [
        [
         "0",
         "2020-12-17 15:41:31",
         "Legs",
         "Squat (Barbell)",
         "1",
         "96.0",
         "65",
         "1"
        ],
        [
         "1",
         "2021-07-01 12:17:58",
         "Fierce 5 A",
         "Hip Thrust (Barbell)",
         "1",
         "20.0",
         "10",
         "2"
        ],
        [
         "2",
         "2021-07-01 12:17:58",
         "Fierce 5 A",
         "Hip Thrust (Barbell)",
         "2",
         "20.0",
         "10",
         "3"
        ],
        [
         "3",
         "2021-07-01 12:17:58",
         "Fierce 5 A",
         "Hip Thrust (Barbell)",
         "3",
         "20.0",
         "10",
         "4"
        ],
        [
         "4",
         "2021-07-01 12:17:58",
         "Fierce 5 A",
         "Hip Thrust (Barbell)",
         "4",
         "20.0",
         "10",
         "5"
        ],
        [
         "5",
         "2021-07-01 21:09:13",
         "Fierce 5 A",
         "Squat (Barbell)",
         "1",
         "65.0",
         "5",
         "6"
        ],
        [
         "6",
         "2021-07-01 21:09:13",
         "Fierce 5 A",
         "Squat (Barbell)",
         "2",
         "65.0",
         "5",
         "7"
        ],
        [
         "7",
         "2021-07-01 21:09:13",
         "Fierce 5 A",
         "Squat (Barbell)",
         "3",
         "65.0",
         "5",
         "8"
        ],
        [
         "8",
         "2021-07-01 21:09:13",
         "Fierce 5 A",
         "Bench Press (Barbell)",
         "1",
         "45.0",
         "5",
         "9"
        ],
        [
         "9",
         "2021-07-01 21:09:13",
         "Fierce 5 A",
         "Bench Press (Barbell)",
         "2",
         "45.0",
         "5",
         "10"
        ],
        [
         "10",
         "2021-07-01 21:09:13",
         "Fierce 5 A",
         "Bench Press (Barbell)",
         "3",
         "45.0",
         "5",
         "11"
        ],
        [
         "11",
         "2021-07-05 21:24:00",
         "Fierce 5 A",
         "Bench Press (Barbell)",
         "1",
         "45.0",
         "5",
         "12"
        ],
        [
         "12",
         "2021-07-05 21:24:00",
         "Fierce 5 A",
         "Bench Press (Barbell)",
         "2",
         "45.0",
         "5",
         "13"
        ],
        [
         "13",
         "2021-07-05 21:24:00",
         "Fierce 5 A",
         "Bench Press (Barbell)",
         "3",
         "45.0",
         "5",
         "14"
        ],
        [
         "14",
         "2021-07-05 21:24:00",
         "Fierce 5 A",
         "Squat (Barbell)",
         "1",
         "65.0",
         "5",
         "15"
        ],
        [
         "15",
         "2021-07-05 21:24:00",
         "Fierce 5 A",
         "Squat (Barbell)",
         "2",
         "65.0",
         "5",
         "16"
        ],
        [
         "16",
         "2021-07-05 21:24:00",
         "Fierce 5 A",
         "Squat (Barbell)",
         "3",
         "65.0",
         "5",
         "17"
        ],
        [
         "17",
         "2021-07-05 21:24:00",
         "Fierce 5 A",
         "Pendlay Row (Barbell)",
         "1",
         "40.0",
         "5",
         "18"
        ],
        [
         "18",
         "2021-07-05 21:24:00",
         "Fierce 5 A",
         "Pendlay Row (Barbell)",
         "2",
         "40.0",
         "5",
         "19"
        ],
        [
         "19",
         "2021-07-05 21:24:00",
         "Fierce 5 A",
         "Pendlay Row (Barbell)",
         "3",
         "40.0",
         "5",
         "20"
        ],
        [
         "20",
         "2021-07-05 21:24:00",
         "Fierce 5 A",
         "Standing Calf Raise (Machine)",
         "1",
         "45.0",
         "15",
         "21"
        ],
        [
         "21",
         "2021-07-05 21:24:00",
         "Fierce 5 A",
         "Standing Calf Raise (Machine)",
         "2",
         "45.0",
         "10",
         "22"
        ],
        [
         "22",
         "2021-07-05 21:24:00",
         "Fierce 5 A",
         "Triceps Pushdown (Cable - Straight Bar)",
         "1",
         "8.0",
         "10",
         "23"
        ],
        [
         "23",
         "2021-07-05 21:24:00",
         "Fierce 5 A",
         "Triceps Pushdown (Cable - Straight Bar)",
         "2",
         "8.0",
         "10",
         "24"
        ],
        [
         "24",
         "2021-07-15 21:30:07",
         "Fierce 5 A",
         "Squat (Barbell)",
         "1",
         "65.0",
         "5",
         "25"
        ],
        [
         "25",
         "2021-07-15 21:30:07",
         "Fierce 5 A",
         "Squat (Barbell)",
         "2",
         "65.0",
         "5",
         "26"
        ],
        [
         "26",
         "2021-07-15 21:30:07",
         "Fierce 5 A",
         "Squat (Barbell)",
         "3",
         "65.0",
         "5",
         "27"
        ],
        [
         "27",
         "2021-07-15 21:30:07",
         "Fierce 5 A",
         "Bench Press (Barbell)",
         "1",
         "45.0",
         "5",
         "28"
        ],
        [
         "28",
         "2021-07-15 21:30:07",
         "Fierce 5 A",
         "Bench Press (Barbell)",
         "2",
         "45.0",
         "5",
         "29"
        ],
        [
         "29",
         "2021-07-15 21:30:07",
         "Fierce 5 A",
         "Bench Press (Barbell)",
         "3",
         "45.0",
         "5",
         "30"
        ],
        [
         "30",
         "2021-07-15 21:30:07",
         "Fierce 5 A",
         "Seated Row (Cable)",
         "1",
         "27.5",
         "8",
         "31"
        ],
        [
         "31",
         "2021-07-15 21:30:07",
         "Fierce 5 A",
         "Seated Row (Cable)",
         "2",
         "35.0",
         "12",
         "32"
        ],
        [
         "32",
         "2021-07-15 21:30:07",
         "Fierce 5 A",
         "Seated Row (Cable)",
         "3",
         "35.0",
         "10",
         "33"
        ],
        [
         "33",
         "2021-07-15 21:30:07",
         "Fierce 5 A",
         "Standing Calf Raise (Machine)",
         "1",
         "37.5",
         "15",
         "34"
        ],
        [
         "34",
         "2021-07-15 21:30:07",
         "Fierce 5 A",
         "Standing Calf Raise (Machine)",
         "2",
         "37.5",
         "13",
         "35"
        ],
        [
         "35",
         "2021-07-15 21:30:07",
         "Fierce 5 A",
         "Triceps Pushdown (Cable - Straight Bar)",
         "1",
         "10.0",
         "12",
         "36"
        ],
        [
         "36",
         "2021-07-15 21:30:07",
         "Fierce 5 A",
         "Triceps Pushdown (Cable - Straight Bar)",
         "2",
         "10.0",
         "12",
         "37"
        ],
        [
         "37",
         "2021-07-15 21:30:07",
         "Fierce 5 A",
         "Triceps Pushdown (Cable - Straight Bar)",
         "3",
         "10.0",
         "8",
         "38"
        ],
        [
         "38",
         "2021-07-17 18:25:41",
         "Fierce 5 B",
         "Deadlift (Barbell)",
         "1",
         "65.0",
         "5",
         "39"
        ],
        [
         "39",
         "2021-07-17 18:25:41",
         "Fierce 5 B",
         "Deadlift (Barbell)",
         "2",
         "65.0",
         "5",
         "40"
        ],
        [
         "40",
         "2021-07-17 18:25:41",
         "Fierce 5 B",
         "Deadlift (Barbell)",
         "3",
         "65.0",
         "5",
         "41"
        ],
        [
         "41",
         "2021-07-17 18:25:41",
         "Fierce 5 B",
         "Overhead Press (Barbell)",
         "1",
         "32.5",
         "5",
         "42"
        ],
        [
         "42",
         "2021-07-17 18:25:41",
         "Fierce 5 B",
         "Overhead Press (Barbell)",
         "2",
         "32.5",
         "5",
         "43"
        ],
        [
         "43",
         "2021-07-17 18:25:41",
         "Fierce 5 B",
         "Overhead Press (Barbell)",
         "3",
         "32.5",
         "5",
         "44"
        ],
        [
         "44",
         "2021-07-17 18:25:41",
         "Fierce 5 B",
         "Lying Leg Curl (Machine)",
         "1",
         "5.0",
         "12",
         "45"
        ],
        [
         "45",
         "2021-07-17 18:25:41",
         "Fierce 5 B",
         "Lying Leg Curl (Machine)",
         "2",
         "7.5",
         "12",
         "46"
        ],
        [
         "46",
         "2021-07-17 18:25:41",
         "Fierce 5 B",
         "Lying Leg Curl (Machine)",
         "3",
         "7.5",
         "8",
         "47"
        ],
        [
         "47",
         "2021-07-17 18:25:41",
         "Fierce 5 B",
         "Lat Pulldown (Cable)",
         "1",
         "35.5",
         "8",
         "48"
        ],
        [
         "48",
         "2021-07-17 18:25:41",
         "Fierce 5 B",
         "Lat Pulldown (Cable)",
         "2",
         "38.0",
         "9",
         "49"
        ],
        [
         "49",
         "2021-07-17 18:25:41",
         "Fierce 5 B",
         "Lat Pulldown (Cable)",
         "3",
         "38.0",
         "8",
         "50"
        ]
       ],
       "shape": {
        "columns": 7,
        "rows": 3339
       }
      },
      "text/html": [
       "<div>\n",
       "<style scoped>\n",
       "    .dataframe tbody tr th:only-of-type {\n",
       "        vertical-align: middle;\n",
       "    }\n",
       "\n",
       "    .dataframe tbody tr th {\n",
       "        vertical-align: top;\n",
       "    }\n",
       "\n",
       "    .dataframe thead th {\n",
       "        text-align: right;\n",
       "    }\n",
       "</style>\n",
       "<table border=\"1\" class=\"dataframe\">\n",
       "  <thead>\n",
       "    <tr style=\"text-align: right;\">\n",
       "      <th></th>\n",
       "      <th>date</th>\n",
       "      <th>workout_name</th>\n",
       "      <th>exercise_name</th>\n",
       "      <th>set_order</th>\n",
       "      <th>weight</th>\n",
       "      <th>reps</th>\n",
       "      <th>set_id</th>\n",
       "    </tr>\n",
       "  </thead>\n",
       "  <tbody>\n",
       "    <tr>\n",
       "      <th>0</th>\n",
       "      <td>2020-12-17 15:41:31</td>\n",
       "      <td>Legs</td>\n",
       "      <td>Squat (Barbell)</td>\n",
       "      <td>1</td>\n",
       "      <td>96.0</td>\n",
       "      <td>65</td>\n",
       "      <td>1</td>\n",
       "    </tr>\n",
       "    <tr>\n",
       "      <th>1</th>\n",
       "      <td>2021-07-01 12:17:58</td>\n",
       "      <td>Fierce 5 A</td>\n",
       "      <td>Hip Thrust (Barbell)</td>\n",
       "      <td>1</td>\n",
       "      <td>20.0</td>\n",
       "      <td>10</td>\n",
       "      <td>2</td>\n",
       "    </tr>\n",
       "    <tr>\n",
       "      <th>2</th>\n",
       "      <td>2021-07-01 12:17:58</td>\n",
       "      <td>Fierce 5 A</td>\n",
       "      <td>Hip Thrust (Barbell)</td>\n",
       "      <td>2</td>\n",
       "      <td>20.0</td>\n",
       "      <td>10</td>\n",
       "      <td>3</td>\n",
       "    </tr>\n",
       "    <tr>\n",
       "      <th>3</th>\n",
       "      <td>2021-07-01 12:17:58</td>\n",
       "      <td>Fierce 5 A</td>\n",
       "      <td>Hip Thrust (Barbell)</td>\n",
       "      <td>3</td>\n",
       "      <td>20.0</td>\n",
       "      <td>10</td>\n",
       "      <td>4</td>\n",
       "    </tr>\n",
       "    <tr>\n",
       "      <th>4</th>\n",
       "      <td>2021-07-01 12:17:58</td>\n",
       "      <td>Fierce 5 A</td>\n",
       "      <td>Hip Thrust (Barbell)</td>\n",
       "      <td>4</td>\n",
       "      <td>20.0</td>\n",
       "      <td>10</td>\n",
       "      <td>5</td>\n",
       "    </tr>\n",
       "    <tr>\n",
       "      <th>...</th>\n",
       "      <td>...</td>\n",
       "      <td>...</td>\n",
       "      <td>...</td>\n",
       "      <td>...</td>\n",
       "      <td>...</td>\n",
       "      <td>...</td>\n",
       "      <td>...</td>\n",
       "    </tr>\n",
       "    <tr>\n",
       "      <th>3549</th>\n",
       "      <td>2025-04-07 20:45:11</td>\n",
       "      <td>RF Upper A</td>\n",
       "      <td>Triceps Extension (Cable)</td>\n",
       "      <td>2</td>\n",
       "      <td>7.5</td>\n",
       "      <td>11</td>\n",
       "      <td>3550</td>\n",
       "    </tr>\n",
       "    <tr>\n",
       "      <th>3550</th>\n",
       "      <td>2025-04-07 20:45:11</td>\n",
       "      <td>RF Upper A</td>\n",
       "      <td>Triceps Extension (Cable)</td>\n",
       "      <td>3</td>\n",
       "      <td>7.5</td>\n",
       "      <td>7</td>\n",
       "      <td>3551</td>\n",
       "    </tr>\n",
       "    <tr>\n",
       "      <th>3554</th>\n",
       "      <td>2025-04-07 20:45:11</td>\n",
       "      <td>RF Upper A</td>\n",
       "      <td>Crunch (Machine)</td>\n",
       "      <td>1</td>\n",
       "      <td>32.0</td>\n",
       "      <td>13</td>\n",
       "      <td>3555</td>\n",
       "    </tr>\n",
       "    <tr>\n",
       "      <th>3555</th>\n",
       "      <td>2025-04-07 20:45:11</td>\n",
       "      <td>RF Upper A</td>\n",
       "      <td>Crunch (Machine)</td>\n",
       "      <td>2</td>\n",
       "      <td>32.0</td>\n",
       "      <td>9</td>\n",
       "      <td>3556</td>\n",
       "    </tr>\n",
       "    <tr>\n",
       "      <th>3556</th>\n",
       "      <td>2025-04-07 20:45:11</td>\n",
       "      <td>RF Upper A</td>\n",
       "      <td>Crunch (Machine)</td>\n",
       "      <td>3</td>\n",
       "      <td>32.0</td>\n",
       "      <td>9</td>\n",
       "      <td>3557</td>\n",
       "    </tr>\n",
       "  </tbody>\n",
       "</table>\n",
       "<p>3339 rows × 7 columns</p>\n",
       "</div>"
      ],
      "text/plain": [
       "                     date workout_name              exercise_name  set_order  \\\n",
       "0     2020-12-17 15:41:31         Legs            Squat (Barbell)          1   \n",
       "1     2021-07-01 12:17:58   Fierce 5 A       Hip Thrust (Barbell)          1   \n",
       "2     2021-07-01 12:17:58   Fierce 5 A       Hip Thrust (Barbell)          2   \n",
       "3     2021-07-01 12:17:58   Fierce 5 A       Hip Thrust (Barbell)          3   \n",
       "4     2021-07-01 12:17:58   Fierce 5 A       Hip Thrust (Barbell)          4   \n",
       "...                   ...          ...                        ...        ...   \n",
       "3549  2025-04-07 20:45:11   RF Upper A  Triceps Extension (Cable)          2   \n",
       "3550  2025-04-07 20:45:11   RF Upper A  Triceps Extension (Cable)          3   \n",
       "3554  2025-04-07 20:45:11   RF Upper A           Crunch (Machine)          1   \n",
       "3555  2025-04-07 20:45:11   RF Upper A           Crunch (Machine)          2   \n",
       "3556  2025-04-07 20:45:11   RF Upper A           Crunch (Machine)          3   \n",
       "\n",
       "      weight  reps  set_id  \n",
       "0       96.0    65       1  \n",
       "1       20.0    10       2  \n",
       "2       20.0    10       3  \n",
       "3       20.0    10       4  \n",
       "4       20.0    10       5  \n",
       "...      ...   ...     ...  \n",
       "3549     7.5    11    3550  \n",
       "3550     7.5     7    3551  \n",
       "3554    32.0    13    3555  \n",
       "3555    32.0     9    3556  \n",
       "3556    32.0     9    3557  \n",
       "\n",
       "[3339 rows x 7 columns]"
      ]
     },
     "execution_count": 8,
     "metadata": {},
     "output_type": "execute_result"
    }
   ],
   "source": [
    "df"
   ]
  },
  {
   "cell_type": "code",
   "execution_count": 9,
   "id": "12e75404",
   "metadata": {},
   "outputs": [
    {
     "data": {
      "application/vnd.microsoft.datawrangler.viewer.v0+json": {
       "columns": [
        {
         "name": "index",
         "rawType": "int64",
         "type": "integer"
        },
        {
         "name": "workout_id",
         "rawType": "int64",
         "type": "integer"
        },
        {
         "name": "date",
         "rawType": "object",
         "type": "string"
        },
        {
         "name": "workout_name",
         "rawType": "object",
         "type": "string"
        }
       ],
       "conversionMethod": "pd.DataFrame",
       "ref": "43f3857b-89c0-408a-a5ed-b5780ae1c23f",
       "rows": [
        [
         "0",
         "1",
         "2020-12-17 15:41:31",
         "Legs"
        ],
        [
         "1",
         "2",
         "2021-07-01 12:17:58",
         "Fierce 5 A"
        ],
        [
         "2",
         "3",
         "2021-07-01 21:09:13",
         "Fierce 5 A"
        ],
        [
         "3",
         "4",
         "2021-07-05 21:24:00",
         "Fierce 5 A"
        ],
        [
         "4",
         "5",
         "2021-07-15 21:30:07",
         "Fierce 5 A"
        ],
        [
         "5",
         "6",
         "2021-07-17 18:25:41",
         "Fierce 5 B"
        ],
        [
         "6",
         "7",
         "2021-07-20 21:29:53",
         "Fierce 5 A"
        ],
        [
         "7",
         "8",
         "2021-07-22 21:20:44",
         "Fierce 5 B"
        ],
        [
         "8",
         "9",
         "2023-10-28 09:13:20",
         "Lower 1"
        ],
        [
         "9",
         "10",
         "2023-10-29 19:40:08",
         "Upper 1"
        ],
        [
         "10",
         "11",
         "2023-11-14 21:02:33",
         "Lower 1"
        ],
        [
         "11",
         "12",
         "2023-11-15 21:01:15",
         "Upper 1"
        ],
        [
         "12",
         "13",
         "2023-11-21 20:33:36",
         "Lower 1"
        ],
        [
         "13",
         "14",
         "2023-11-22 20:11:00",
         "Upper 1"
        ],
        [
         "14",
         "15",
         "2023-11-25 21:27:29",
         "Evening Workout"
        ],
        [
         "15",
         "16",
         "2023-11-26 21:22:27",
         "Evening Workout"
        ],
        [
         "16",
         "17",
         "2023-11-28 20:36:04",
         "Lower 1"
        ],
        [
         "17",
         "18",
         "2023-11-29 20:53:16",
         "Upper 1"
        ],
        [
         "18",
         "19",
         "2023-12-09 22:34:31",
         "Lower 1"
        ],
        [
         "19",
         "20",
         "2023-12-16 15:20:32",
         "Lower 1"
        ],
        [
         "20",
         "21",
         "2023-12-17 20:03:35",
         "Upper 1"
        ],
        [
         "21",
         "22",
         "2023-12-21 18:58:45",
         "Day 3"
        ],
        [
         "22",
         "23",
         "2023-12-22 19:30:58",
         "Day 4"
        ],
        [
         "23",
         "24",
         "2023-12-23 11:26:13",
         "Lower 1"
        ],
        [
         "24",
         "25",
         "2024-01-06 11:25:48",
         "Upper 1"
        ],
        [
         "25",
         "26",
         "2024-01-27 18:14:10",
         "Lower 1"
        ],
        [
         "26",
         "27",
         "2024-01-28 18:26:13",
         "Upper 1"
        ],
        [
         "27",
         "28",
         "2024-01-30 20:58:34",
         "Day 3"
        ],
        [
         "28",
         "29",
         "2024-01-31 20:28:07",
         "Day 4"
        ],
        [
         "29",
         "30",
         "2024-02-03 13:01:07",
         "Lower 1"
        ],
        [
         "30",
         "31",
         "2024-02-04 15:44:00",
         "Upper 1"
        ],
        [
         "31",
         "32",
         "2024-02-13 19:52:09",
         "Day 3"
        ],
        [
         "32",
         "33",
         "2024-02-14 20:13:37",
         "Upper 1"
        ],
        [
         "33",
         "34",
         "2024-02-15 19:47:34",
         "Lower 1"
        ],
        [
         "34",
         "35",
         "2024-02-17 18:48:21",
         "Day 3"
        ],
        [
         "35",
         "36",
         "2024-02-18 17:47:44",
         "Upper 2"
        ],
        [
         "36",
         "37",
         "2024-02-18 18:42:43",
         "Abs"
        ],
        [
         "37",
         "38",
         "2024-02-22 19:30:40",
         "Lower 1"
        ],
        [
         "38",
         "39",
         "2024-02-22 20:23:19",
         "Abs"
        ],
        [
         "39",
         "40",
         "2024-03-07 21:17:27",
         "Lower 1"
        ],
        [
         "40",
         "41",
         "2024-03-08 12:35:21",
         "Upper 1"
        ],
        [
         "41",
         "42",
         "2024-03-09 08:28:59",
         "Lower 2"
        ],
        [
         "42",
         "43",
         "2024-03-10 17:52:23",
         "Upper 2"
        ],
        [
         "43",
         "44",
         "2024-03-10 19:08:31",
         "Abs"
        ],
        [
         "44",
         "45",
         "2024-03-16 17:32:24",
         "Lower 1"
        ],
        [
         "45",
         "46",
         "2024-03-22 19:37:04",
         "Lower 1"
        ],
        [
         "46",
         "47",
         "2024-03-24 11:21:31",
         "Upper 1"
        ],
        [
         "47",
         "48",
         "2024-04-04 21:23:53",
         "Lower 1"
        ],
        [
         "48",
         "49",
         "2024-04-06 18:13:50",
         "Upper 1"
        ],
        [
         "49",
         "50",
         "2024-04-07 18:10:24",
         "Lower 2"
        ]
       ],
       "shape": {
        "columns": 3,
        "rows": 199
       }
      },
      "text/html": [
       "<div>\n",
       "<style scoped>\n",
       "    .dataframe tbody tr th:only-of-type {\n",
       "        vertical-align: middle;\n",
       "    }\n",
       "\n",
       "    .dataframe tbody tr th {\n",
       "        vertical-align: top;\n",
       "    }\n",
       "\n",
       "    .dataframe thead th {\n",
       "        text-align: right;\n",
       "    }\n",
       "</style>\n",
       "<table border=\"1\" class=\"dataframe\">\n",
       "  <thead>\n",
       "    <tr style=\"text-align: right;\">\n",
       "      <th></th>\n",
       "      <th>workout_id</th>\n",
       "      <th>date</th>\n",
       "      <th>workout_name</th>\n",
       "    </tr>\n",
       "  </thead>\n",
       "  <tbody>\n",
       "    <tr>\n",
       "      <th>0</th>\n",
       "      <td>1</td>\n",
       "      <td>2020-12-17 15:41:31</td>\n",
       "      <td>Legs</td>\n",
       "    </tr>\n",
       "    <tr>\n",
       "      <th>1</th>\n",
       "      <td>2</td>\n",
       "      <td>2021-07-01 12:17:58</td>\n",
       "      <td>Fierce 5 A</td>\n",
       "    </tr>\n",
       "    <tr>\n",
       "      <th>2</th>\n",
       "      <td>3</td>\n",
       "      <td>2021-07-01 21:09:13</td>\n",
       "      <td>Fierce 5 A</td>\n",
       "    </tr>\n",
       "    <tr>\n",
       "      <th>3</th>\n",
       "      <td>4</td>\n",
       "      <td>2021-07-05 21:24:00</td>\n",
       "      <td>Fierce 5 A</td>\n",
       "    </tr>\n",
       "    <tr>\n",
       "      <th>4</th>\n",
       "      <td>5</td>\n",
       "      <td>2021-07-15 21:30:07</td>\n",
       "      <td>Fierce 5 A</td>\n",
       "    </tr>\n",
       "    <tr>\n",
       "      <th>...</th>\n",
       "      <td>...</td>\n",
       "      <td>...</td>\n",
       "      <td>...</td>\n",
       "    </tr>\n",
       "    <tr>\n",
       "      <th>194</th>\n",
       "      <td>195</td>\n",
       "      <td>2025-03-30 18:04:36</td>\n",
       "      <td>RF Upper A</td>\n",
       "    </tr>\n",
       "    <tr>\n",
       "      <th>195</th>\n",
       "      <td>196</td>\n",
       "      <td>2025-03-31 20:19:23</td>\n",
       "      <td>RF Lower A</td>\n",
       "    </tr>\n",
       "    <tr>\n",
       "      <th>196</th>\n",
       "      <td>197</td>\n",
       "      <td>2025-04-02 21:02:37</td>\n",
       "      <td>RF Upper B</td>\n",
       "    </tr>\n",
       "    <tr>\n",
       "      <th>197</th>\n",
       "      <td>198</td>\n",
       "      <td>2025-04-03 20:34:34</td>\n",
       "      <td>RF Lower B</td>\n",
       "    </tr>\n",
       "    <tr>\n",
       "      <th>198</th>\n",
       "      <td>199</td>\n",
       "      <td>2025-04-07 20:45:11</td>\n",
       "      <td>RF Upper A</td>\n",
       "    </tr>\n",
       "  </tbody>\n",
       "</table>\n",
       "<p>199 rows × 3 columns</p>\n",
       "</div>"
      ],
      "text/plain": [
       "     workout_id                 date workout_name\n",
       "0             1  2020-12-17 15:41:31         Legs\n",
       "1             2  2021-07-01 12:17:58   Fierce 5 A\n",
       "2             3  2021-07-01 21:09:13   Fierce 5 A\n",
       "3             4  2021-07-05 21:24:00   Fierce 5 A\n",
       "4             5  2021-07-15 21:30:07   Fierce 5 A\n",
       "..          ...                  ...          ...\n",
       "194         195  2025-03-30 18:04:36   RF Upper A\n",
       "195         196  2025-03-31 20:19:23   RF Lower A\n",
       "196         197  2025-04-02 21:02:37   RF Upper B\n",
       "197         198  2025-04-03 20:34:34   RF Lower B\n",
       "198         199  2025-04-07 20:45:11   RF Upper A\n",
       "\n",
       "[199 rows x 3 columns]"
      ]
     },
     "execution_count": 9,
     "metadata": {},
     "output_type": "execute_result"
    }
   ],
   "source": [
    "# Normalise table \n",
    "\n",
    "\n",
    "# Creating the workout table\n",
    "workouts = df[[ 'date', 'workout_name']].drop_duplicates().reset_index(drop=True)\n",
    "\n",
    "# Add index\n",
    "workouts['workout_id'] = workouts.index + 1\n",
    "\n",
    "# Re-order columns\n",
    "workouts = workouts[['workout_id', 'date', 'workout_name']]\n",
    "\n",
    "workouts\n"
   ]
  },
  {
   "cell_type": "code",
   "execution_count": 10,
   "id": "68cd5ca1",
   "metadata": {},
   "outputs": [
    {
     "data": {
      "application/vnd.microsoft.datawrangler.viewer.v0+json": {
       "columns": [
        {
         "name": "index",
         "rawType": "int64",
         "type": "integer"
        },
        {
         "name": "exercise_id",
         "rawType": "int64",
         "type": "integer"
        },
        {
         "name": "exercise_name",
         "rawType": "object",
         "type": "string"
        }
       ],
       "conversionMethod": "pd.DataFrame",
       "ref": "7c5563bb-6259-4ec0-9f9b-867bf2dd5458",
       "rows": [
        [
         "0",
         "1",
         "Squat (Barbell)"
        ],
        [
         "1",
         "2",
         "Hip Thrust (Barbell)"
        ],
        [
         "2",
         "3",
         "Bench Press (Barbell)"
        ],
        [
         "3",
         "4",
         "Pendlay Row (Barbell)"
        ],
        [
         "4",
         "5",
         "Standing Calf Raise (Machine)"
        ],
        [
         "5",
         "6",
         "Triceps Pushdown (Cable - Straight Bar)"
        ],
        [
         "6",
         "7",
         "Seated Row (Cable)"
        ],
        [
         "7",
         "8",
         "Deadlift (Barbell)"
        ],
        [
         "8",
         "9",
         "Overhead Press (Barbell)"
        ],
        [
         "9",
         "10",
         "Lying Leg Curl (Machine)"
        ],
        [
         "10",
         "11",
         "Lat Pulldown (Cable)"
        ],
        [
         "11",
         "12",
         "Bicep Curl (Dumbbell)"
        ],
        [
         "12",
         "13",
         "Hack Squat"
        ],
        [
         "13",
         "14",
         "Romanian Deadlift (Barbell)"
        ],
        [
         "14",
         "15",
         "Leg Extension (Machine)"
        ],
        [
         "15",
         "16",
         "Calf Press on Seated Leg Press"
        ],
        [
         "16",
         "17",
         "Pull Up"
        ],
        [
         "17",
         "18",
         "Shoulder Press (Plate Loaded)"
        ],
        [
         "18",
         "19",
         "Pec Deck (Machine)"
        ],
        [
         "19",
         "20",
         "Bicep Curl (Barbell)"
        ],
        [
         "20",
         "21",
         "Triceps Extension"
        ],
        [
         "21",
         "22",
         "Glute Ham Raise"
        ],
        [
         "22",
         "23",
         "Hanging Leg Raise"
        ],
        [
         "23",
         "24",
         "Bent Over One Arm Row (Dumbbell)"
        ],
        [
         "24",
         "25",
         "Lunge (Dumbbell)"
        ],
        [
         "25",
         "26",
         "Single Leg Extension"
        ],
        [
         "26",
         "27",
         "Single Leg Curl"
        ],
        [
         "27",
         "28",
         "Seated Calf Raise (Machine)"
        ],
        [
         "28",
         "29",
         "Crunch"
        ],
        [
         "29",
         "30",
         "Incline Bench Press (Dumbbell)"
        ],
        [
         "30",
         "31",
         "Lat Pulldown - Underhand (Cable)"
        ],
        [
         "31",
         "32",
         "Chest Dip"
        ],
        [
         "32",
         "33",
         "Lateral Raise (Cable)"
        ],
        [
         "33",
         "34",
         "Face Pull (Cable)"
        ],
        [
         "34",
         "35",
         "Hammer Curl (Dumbbell)"
        ],
        [
         "35",
         "36",
         "Chest Press (Machine)"
        ],
        [
         "36",
         "37",
         "Hip Abductor (Machine)"
        ],
        [
         "37",
         "38",
         "Back Extension"
        ],
        [
         "38",
         "39",
         "Glute Kickback (Machine)"
        ],
        [
         "39",
         "40",
         "Sit Up"
        ],
        [
         "40",
         "41",
         "Roman Chair Knee Raise "
        ],
        [
         "41",
         "42",
         "Iso-Lateral Row (Machine)"
        ],
        [
         "42",
         "43",
         "Reverse Fly (Machine)"
        ],
        [
         "43",
         "44",
         "Bench Press (Cable)"
        ],
        [
         "44",
         "45",
         "Triceps Extension (Dumbbell)"
        ],
        [
         "45",
         "46",
         "Bent Over Row (Barbell)"
        ],
        [
         "46",
         "47",
         "Lat Pulldown (Machine)"
        ],
        [
         "47",
         "48",
         "Triceps Extension (Cable)"
        ],
        [
         "48",
         "49",
         "Incline Bench Press (Barbell)"
        ],
        [
         "49",
         "50",
         "Bench Press - Close Grip (Barbell)"
        ]
       ],
       "shape": {
        "columns": 2,
        "rows": 77
       }
      },
      "text/html": [
       "<div>\n",
       "<style scoped>\n",
       "    .dataframe tbody tr th:only-of-type {\n",
       "        vertical-align: middle;\n",
       "    }\n",
       "\n",
       "    .dataframe tbody tr th {\n",
       "        vertical-align: top;\n",
       "    }\n",
       "\n",
       "    .dataframe thead th {\n",
       "        text-align: right;\n",
       "    }\n",
       "</style>\n",
       "<table border=\"1\" class=\"dataframe\">\n",
       "  <thead>\n",
       "    <tr style=\"text-align: right;\">\n",
       "      <th></th>\n",
       "      <th>exercise_id</th>\n",
       "      <th>exercise_name</th>\n",
       "    </tr>\n",
       "  </thead>\n",
       "  <tbody>\n",
       "    <tr>\n",
       "      <th>0</th>\n",
       "      <td>1</td>\n",
       "      <td>Squat (Barbell)</td>\n",
       "    </tr>\n",
       "    <tr>\n",
       "      <th>1</th>\n",
       "      <td>2</td>\n",
       "      <td>Hip Thrust (Barbell)</td>\n",
       "    </tr>\n",
       "    <tr>\n",
       "      <th>2</th>\n",
       "      <td>3</td>\n",
       "      <td>Bench Press (Barbell)</td>\n",
       "    </tr>\n",
       "    <tr>\n",
       "      <th>3</th>\n",
       "      <td>4</td>\n",
       "      <td>Pendlay Row (Barbell)</td>\n",
       "    </tr>\n",
       "    <tr>\n",
       "      <th>4</th>\n",
       "      <td>5</td>\n",
       "      <td>Standing Calf Raise (Machine)</td>\n",
       "    </tr>\n",
       "    <tr>\n",
       "      <th>...</th>\n",
       "      <td>...</td>\n",
       "      <td>...</td>\n",
       "    </tr>\n",
       "    <tr>\n",
       "      <th>72</th>\n",
       "      <td>73</td>\n",
       "      <td>Standing Calf Raise</td>\n",
       "    </tr>\n",
       "    <tr>\n",
       "      <th>73</th>\n",
       "      <td>74</td>\n",
       "      <td>Pull Up (Assisted)</td>\n",
       "    </tr>\n",
       "    <tr>\n",
       "      <th>74</th>\n",
       "      <td>75</td>\n",
       "      <td>Weighted Russian Twist</td>\n",
       "    </tr>\n",
       "    <tr>\n",
       "      <th>75</th>\n",
       "      <td>76</td>\n",
       "      <td>Squat (Machine)</td>\n",
       "    </tr>\n",
       "    <tr>\n",
       "      <th>76</th>\n",
       "      <td>77</td>\n",
       "      <td>Oblique Crunch</td>\n",
       "    </tr>\n",
       "  </tbody>\n",
       "</table>\n",
       "<p>77 rows × 2 columns</p>\n",
       "</div>"
      ],
      "text/plain": [
       "    exercise_id                  exercise_name\n",
       "0             1                Squat (Barbell)\n",
       "1             2           Hip Thrust (Barbell)\n",
       "2             3          Bench Press (Barbell)\n",
       "3             4          Pendlay Row (Barbell)\n",
       "4             5  Standing Calf Raise (Machine)\n",
       "..          ...                            ...\n",
       "72           73           Standing Calf Raise \n",
       "73           74             Pull Up (Assisted)\n",
       "74           75         Weighted Russian Twist\n",
       "75           76                Squat (Machine)\n",
       "76           77                 Oblique Crunch\n",
       "\n",
       "[77 rows x 2 columns]"
      ]
     },
     "execution_count": 10,
     "metadata": {},
     "output_type": "execute_result"
    }
   ],
   "source": [
    "# Creating the exercise table\n",
    "\n",
    "exercises = df[['exercise_name']].drop_duplicates().reset_index(drop=True)\n",
    "exercises['exercise_id'] = exercises.index + 1\n",
    "exercises = exercises[['exercise_id', 'exercise_name']]\n",
    "exercises"
   ]
  },
  {
   "cell_type": "code",
   "execution_count": 11,
   "id": "e61e634c",
   "metadata": {},
   "outputs": [
    {
     "data": {
      "application/vnd.microsoft.datawrangler.viewer.v0+json": {
       "columns": [
        {
         "name": "index",
         "rawType": "int64",
         "type": "integer"
        },
        {
         "name": "set_id",
         "rawType": "int64",
         "type": "integer"
        },
        {
         "name": "workout_id",
         "rawType": "int64",
         "type": "integer"
        },
        {
         "name": "exercise_id",
         "rawType": "int64",
         "type": "integer"
        },
        {
         "name": "set_order",
         "rawType": "int64",
         "type": "integer"
        },
        {
         "name": "weight",
         "rawType": "float64",
         "type": "float"
        },
        {
         "name": "reps",
         "rawType": "int64",
         "type": "integer"
        }
       ],
       "conversionMethod": "pd.DataFrame",
       "ref": "f1bd812b-24e6-4d72-95a0-bcb5323eabcf",
       "rows": [
        [
         "0",
         "1",
         "1",
         "1",
         "1",
         "96.0",
         "65"
        ],
        [
         "1",
         "2",
         "2",
         "2",
         "1",
         "20.0",
         "10"
        ],
        [
         "2",
         "3",
         "2",
         "2",
         "2",
         "20.0",
         "10"
        ],
        [
         "3",
         "4",
         "2",
         "2",
         "3",
         "20.0",
         "10"
        ],
        [
         "4",
         "5",
         "2",
         "2",
         "4",
         "20.0",
         "10"
        ],
        [
         "5",
         "6",
         "3",
         "1",
         "1",
         "65.0",
         "5"
        ],
        [
         "6",
         "7",
         "3",
         "1",
         "2",
         "65.0",
         "5"
        ],
        [
         "7",
         "8",
         "3",
         "1",
         "3",
         "65.0",
         "5"
        ],
        [
         "8",
         "9",
         "3",
         "3",
         "1",
         "45.0",
         "5"
        ],
        [
         "9",
         "10",
         "3",
         "3",
         "2",
         "45.0",
         "5"
        ],
        [
         "10",
         "11",
         "3",
         "3",
         "3",
         "45.0",
         "5"
        ],
        [
         "11",
         "12",
         "4",
         "3",
         "1",
         "45.0",
         "5"
        ],
        [
         "12",
         "13",
         "4",
         "3",
         "2",
         "45.0",
         "5"
        ],
        [
         "13",
         "14",
         "4",
         "3",
         "3",
         "45.0",
         "5"
        ],
        [
         "14",
         "15",
         "4",
         "1",
         "1",
         "65.0",
         "5"
        ],
        [
         "15",
         "16",
         "4",
         "1",
         "2",
         "65.0",
         "5"
        ],
        [
         "16",
         "17",
         "4",
         "1",
         "3",
         "65.0",
         "5"
        ],
        [
         "17",
         "18",
         "4",
         "4",
         "1",
         "40.0",
         "5"
        ],
        [
         "18",
         "19",
         "4",
         "4",
         "2",
         "40.0",
         "5"
        ],
        [
         "19",
         "20",
         "4",
         "4",
         "3",
         "40.0",
         "5"
        ],
        [
         "20",
         "21",
         "4",
         "5",
         "1",
         "45.0",
         "15"
        ],
        [
         "21",
         "22",
         "4",
         "5",
         "2",
         "45.0",
         "10"
        ],
        [
         "22",
         "23",
         "4",
         "6",
         "1",
         "8.0",
         "10"
        ],
        [
         "23",
         "24",
         "4",
         "6",
         "2",
         "8.0",
         "10"
        ],
        [
         "24",
         "25",
         "5",
         "1",
         "1",
         "65.0",
         "5"
        ],
        [
         "25",
         "26",
         "5",
         "1",
         "2",
         "65.0",
         "5"
        ],
        [
         "26",
         "27",
         "5",
         "1",
         "3",
         "65.0",
         "5"
        ],
        [
         "27",
         "28",
         "5",
         "3",
         "1",
         "45.0",
         "5"
        ],
        [
         "28",
         "29",
         "5",
         "3",
         "2",
         "45.0",
         "5"
        ],
        [
         "29",
         "30",
         "5",
         "3",
         "3",
         "45.0",
         "5"
        ],
        [
         "30",
         "31",
         "5",
         "7",
         "1",
         "27.5",
         "8"
        ],
        [
         "31",
         "32",
         "5",
         "7",
         "2",
         "35.0",
         "12"
        ],
        [
         "32",
         "33",
         "5",
         "7",
         "3",
         "35.0",
         "10"
        ],
        [
         "33",
         "34",
         "5",
         "5",
         "1",
         "37.5",
         "15"
        ],
        [
         "34",
         "35",
         "5",
         "5",
         "2",
         "37.5",
         "13"
        ],
        [
         "35",
         "36",
         "5",
         "6",
         "1",
         "10.0",
         "12"
        ],
        [
         "36",
         "37",
         "5",
         "6",
         "2",
         "10.0",
         "12"
        ],
        [
         "37",
         "38",
         "5",
         "6",
         "3",
         "10.0",
         "8"
        ],
        [
         "38",
         "39",
         "6",
         "8",
         "1",
         "65.0",
         "5"
        ],
        [
         "39",
         "40",
         "6",
         "8",
         "2",
         "65.0",
         "5"
        ],
        [
         "40",
         "41",
         "6",
         "8",
         "3",
         "65.0",
         "5"
        ],
        [
         "41",
         "42",
         "6",
         "9",
         "1",
         "32.5",
         "5"
        ],
        [
         "42",
         "43",
         "6",
         "9",
         "2",
         "32.5",
         "5"
        ],
        [
         "43",
         "44",
         "6",
         "9",
         "3",
         "32.5",
         "5"
        ],
        [
         "44",
         "45",
         "6",
         "10",
         "1",
         "5.0",
         "12"
        ],
        [
         "45",
         "46",
         "6",
         "10",
         "2",
         "7.5",
         "12"
        ],
        [
         "46",
         "47",
         "6",
         "10",
         "3",
         "7.5",
         "8"
        ],
        [
         "47",
         "48",
         "6",
         "11",
         "1",
         "35.5",
         "8"
        ],
        [
         "48",
         "49",
         "6",
         "11",
         "2",
         "38.0",
         "9"
        ],
        [
         "49",
         "50",
         "6",
         "11",
         "3",
         "38.0",
         "8"
        ]
       ],
       "shape": {
        "columns": 6,
        "rows": 3339
       }
      },
      "text/html": [
       "<div>\n",
       "<style scoped>\n",
       "    .dataframe tbody tr th:only-of-type {\n",
       "        vertical-align: middle;\n",
       "    }\n",
       "\n",
       "    .dataframe tbody tr th {\n",
       "        vertical-align: top;\n",
       "    }\n",
       "\n",
       "    .dataframe thead th {\n",
       "        text-align: right;\n",
       "    }\n",
       "</style>\n",
       "<table border=\"1\" class=\"dataframe\">\n",
       "  <thead>\n",
       "    <tr style=\"text-align: right;\">\n",
       "      <th></th>\n",
       "      <th>set_id</th>\n",
       "      <th>workout_id</th>\n",
       "      <th>exercise_id</th>\n",
       "      <th>set_order</th>\n",
       "      <th>weight</th>\n",
       "      <th>reps</th>\n",
       "    </tr>\n",
       "  </thead>\n",
       "  <tbody>\n",
       "    <tr>\n",
       "      <th>0</th>\n",
       "      <td>1</td>\n",
       "      <td>1</td>\n",
       "      <td>1</td>\n",
       "      <td>1</td>\n",
       "      <td>96.0</td>\n",
       "      <td>65</td>\n",
       "    </tr>\n",
       "    <tr>\n",
       "      <th>1</th>\n",
       "      <td>2</td>\n",
       "      <td>2</td>\n",
       "      <td>2</td>\n",
       "      <td>1</td>\n",
       "      <td>20.0</td>\n",
       "      <td>10</td>\n",
       "    </tr>\n",
       "    <tr>\n",
       "      <th>2</th>\n",
       "      <td>3</td>\n",
       "      <td>2</td>\n",
       "      <td>2</td>\n",
       "      <td>2</td>\n",
       "      <td>20.0</td>\n",
       "      <td>10</td>\n",
       "    </tr>\n",
       "    <tr>\n",
       "      <th>3</th>\n",
       "      <td>4</td>\n",
       "      <td>2</td>\n",
       "      <td>2</td>\n",
       "      <td>3</td>\n",
       "      <td>20.0</td>\n",
       "      <td>10</td>\n",
       "    </tr>\n",
       "    <tr>\n",
       "      <th>4</th>\n",
       "      <td>5</td>\n",
       "      <td>2</td>\n",
       "      <td>2</td>\n",
       "      <td>4</td>\n",
       "      <td>20.0</td>\n",
       "      <td>10</td>\n",
       "    </tr>\n",
       "    <tr>\n",
       "      <th>...</th>\n",
       "      <td>...</td>\n",
       "      <td>...</td>\n",
       "      <td>...</td>\n",
       "      <td>...</td>\n",
       "      <td>...</td>\n",
       "      <td>...</td>\n",
       "    </tr>\n",
       "    <tr>\n",
       "      <th>3334</th>\n",
       "      <td>3550</td>\n",
       "      <td>199</td>\n",
       "      <td>48</td>\n",
       "      <td>2</td>\n",
       "      <td>7.5</td>\n",
       "      <td>11</td>\n",
       "    </tr>\n",
       "    <tr>\n",
       "      <th>3335</th>\n",
       "      <td>3551</td>\n",
       "      <td>199</td>\n",
       "      <td>48</td>\n",
       "      <td>3</td>\n",
       "      <td>7.5</td>\n",
       "      <td>7</td>\n",
       "    </tr>\n",
       "    <tr>\n",
       "      <th>3336</th>\n",
       "      <td>3555</td>\n",
       "      <td>199</td>\n",
       "      <td>69</td>\n",
       "      <td>1</td>\n",
       "      <td>32.0</td>\n",
       "      <td>13</td>\n",
       "    </tr>\n",
       "    <tr>\n",
       "      <th>3337</th>\n",
       "      <td>3556</td>\n",
       "      <td>199</td>\n",
       "      <td>69</td>\n",
       "      <td>2</td>\n",
       "      <td>32.0</td>\n",
       "      <td>9</td>\n",
       "    </tr>\n",
       "    <tr>\n",
       "      <th>3338</th>\n",
       "      <td>3557</td>\n",
       "      <td>199</td>\n",
       "      <td>69</td>\n",
       "      <td>3</td>\n",
       "      <td>32.0</td>\n",
       "      <td>9</td>\n",
       "    </tr>\n",
       "  </tbody>\n",
       "</table>\n",
       "<p>3339 rows × 6 columns</p>\n",
       "</div>"
      ],
      "text/plain": [
       "      set_id  workout_id  exercise_id  set_order  weight  reps\n",
       "0          1           1            1          1    96.0    65\n",
       "1          2           2            2          1    20.0    10\n",
       "2          3           2            2          2    20.0    10\n",
       "3          4           2            2          3    20.0    10\n",
       "4          5           2            2          4    20.0    10\n",
       "...      ...         ...          ...        ...     ...   ...\n",
       "3334    3550         199           48          2     7.5    11\n",
       "3335    3551         199           48          3     7.5     7\n",
       "3336    3555         199           69          1    32.0    13\n",
       "3337    3556         199           69          2    32.0     9\n",
       "3338    3557         199           69          3    32.0     9\n",
       "\n",
       "[3339 rows x 6 columns]"
      ]
     },
     "execution_count": 11,
     "metadata": {},
     "output_type": "execute_result"
    }
   ],
   "source": [
    "# Creating the sets table \n",
    "\n",
    "\n",
    "sets = pd.merge(df, workouts, on=['date', 'workout_name'], how='left')\n",
    "sets = pd.merge(sets, exercises, on='exercise_name', how='left')\n",
    "sets = sets.drop(columns=['date', 'workout_name', 'exercise_name'])\n",
    "sets= sets[['set_id', 'workout_id', 'exercise_id', 'set_order', 'weight', 'reps']]\n",
    "\n",
    "sets\n"
   ]
  },
  {
   "cell_type": "code",
   "execution_count": 12,
   "id": "5e170bd8",
   "metadata": {},
   "outputs": [
    {
     "name": "stdout",
     "output_type": "stream",
     "text": [
      "test\n"
     ]
    }
   ],
   "source": [
    "# Now I need to place that data into my database \n",
    "\n",
    "# pip install python-dotenv\n",
    "import os\n",
    "\n",
    "from dotenv import load_dotenv\n",
    "\n",
    "load_dotenv()\n",
    "\n",
    "db_user = os.environ.get('DB_USER')\n",
    "db_pass = os.environ.get('DB_PASSWORD')\n",
    "db_name = os.environ.get('DB_NAME')\n",
    "db_host = os.environ.get('DB_HOST')\n",
    "db_port = os.environ.get('DB_PORT')\n",
    "\n",
    "print(db_user)"
   ]
  },
  {
   "cell_type": "code",
   "execution_count": 13,
   "id": "bc997b79",
   "metadata": {},
   "outputs": [
    {
     "ename": "ModuleNotFoundError",
     "evalue": "No module named 'psycopg2'",
     "output_type": "error",
     "traceback": [
      "\u001b[31m---------------------------------------------------------------------------\u001b[39m",
      "\u001b[31mModuleNotFoundError\u001b[39m                       Traceback (most recent call last)",
      "\u001b[36mCell\u001b[39m\u001b[36m \u001b[39m\u001b[32mIn[13]\u001b[39m\u001b[32m, line 7\u001b[39m\n\u001b[32m      4\u001b[39m db_url = \u001b[33mf\u001b[39m\u001b[33m\"\u001b[39m\u001b[33mpostgresql://\u001b[39m\u001b[38;5;132;01m{\u001b[39;00mdb_user\u001b[38;5;132;01m}\u001b[39;00m\u001b[33m:\u001b[39m\u001b[38;5;132;01m{\u001b[39;00mdb_pass\u001b[38;5;132;01m}\u001b[39;00m\u001b[33m@\u001b[39m\u001b[38;5;132;01m{\u001b[39;00mdb_host\u001b[38;5;132;01m}\u001b[39;00m\u001b[33m/\u001b[39m\u001b[38;5;132;01m{\u001b[39;00mdb_name\u001b[38;5;132;01m}\u001b[39;00m\u001b[33m\"\u001b[39m\n\u001b[32m      6\u001b[39m \u001b[38;5;66;03m# Create engine\u001b[39;00m\n\u001b[32m----> \u001b[39m\u001b[32m7\u001b[39m engine = \u001b[43mcreate_engine\u001b[49m\u001b[43m(\u001b[49m\u001b[43mdb_url\u001b[49m\u001b[43m)\u001b[49m\n",
      "\u001b[36mFile \u001b[39m\u001b[32m<string>:2\u001b[39m, in \u001b[36mcreate_engine\u001b[39m\u001b[34m(url, **kwargs)\u001b[39m\n",
      "\u001b[36mFile \u001b[39m\u001b[32m~/df/projects/workout project/selfhost_db/.venv/lib/python3.12/site-packages/sqlalchemy/util/deprecations.py:281\u001b[39m, in \u001b[36mdeprecated_params.<locals>.decorate.<locals>.warned\u001b[39m\u001b[34m(fn, *args, **kwargs)\u001b[39m\n\u001b[32m    274\u001b[39m     \u001b[38;5;28;01mif\u001b[39;00m m \u001b[38;5;129;01min\u001b[39;00m kwargs:\n\u001b[32m    275\u001b[39m         _warn_with_version(\n\u001b[32m    276\u001b[39m             messages[m],\n\u001b[32m    277\u001b[39m             versions[m],\n\u001b[32m    278\u001b[39m             version_warnings[m],\n\u001b[32m    279\u001b[39m             stacklevel=\u001b[32m3\u001b[39m,\n\u001b[32m    280\u001b[39m         )\n\u001b[32m--> \u001b[39m\u001b[32m281\u001b[39m \u001b[38;5;28;01mreturn\u001b[39;00m \u001b[43mfn\u001b[49m\u001b[43m(\u001b[49m\u001b[43m*\u001b[49m\u001b[43margs\u001b[49m\u001b[43m,\u001b[49m\u001b[43m \u001b[49m\u001b[43m*\u001b[49m\u001b[43m*\u001b[49m\u001b[43mkwargs\u001b[49m\u001b[43m)\u001b[49m\n",
      "\u001b[36mFile \u001b[39m\u001b[32m~/df/projects/workout project/selfhost_db/.venv/lib/python3.12/site-packages/sqlalchemy/engine/create.py:602\u001b[39m, in \u001b[36mcreate_engine\u001b[39m\u001b[34m(url, **kwargs)\u001b[39m\n\u001b[32m    600\u001b[39m         \u001b[38;5;28;01mif\u001b[39;00m k \u001b[38;5;129;01min\u001b[39;00m kwargs:\n\u001b[32m    601\u001b[39m             dbapi_args[k] = pop_kwarg(k)\n\u001b[32m--> \u001b[39m\u001b[32m602\u001b[39m     dbapi = \u001b[43mdbapi_meth\u001b[49m\u001b[43m(\u001b[49m\u001b[43m*\u001b[49m\u001b[43m*\u001b[49m\u001b[43mdbapi_args\u001b[49m\u001b[43m)\u001b[49m\n\u001b[32m    604\u001b[39m dialect_args[\u001b[33m\"\u001b[39m\u001b[33mdbapi\u001b[39m\u001b[33m\"\u001b[39m] = dbapi\n\u001b[32m    606\u001b[39m dialect_args.setdefault(\u001b[33m\"\u001b[39m\u001b[33mcompiler_linting\u001b[39m\u001b[33m\"\u001b[39m, compiler.NO_LINTING)\n",
      "\u001b[36mFile \u001b[39m\u001b[32m~/df/projects/workout project/selfhost_db/.venv/lib/python3.12/site-packages/sqlalchemy/dialects/postgresql/psycopg2.py:696\u001b[39m, in \u001b[36mPGDialect_psycopg2.import_dbapi\u001b[39m\u001b[34m(cls)\u001b[39m\n\u001b[32m    694\u001b[39m \u001b[38;5;129m@classmethod\u001b[39m\n\u001b[32m    695\u001b[39m \u001b[38;5;28;01mdef\u001b[39;00m\u001b[38;5;250m \u001b[39m\u001b[34mimport_dbapi\u001b[39m(\u001b[38;5;28mcls\u001b[39m):\n\u001b[32m--> \u001b[39m\u001b[32m696\u001b[39m     \u001b[38;5;28;01mimport\u001b[39;00m\u001b[38;5;250m \u001b[39m\u001b[34;01mpsycopg2\u001b[39;00m\n\u001b[32m    698\u001b[39m     \u001b[38;5;28;01mreturn\u001b[39;00m psycopg2\n",
      "\u001b[31mModuleNotFoundError\u001b[39m: No module named 'psycopg2'"
     ]
    }
   ],
   "source": [
    "# Using SQL alchemy to connect to database\n",
    "from sqlalchemy import create_engine\n",
    "\n",
    "db_url = f\"postgresql://{db_user}:{db_pass}@{db_host}/{db_name}\"\n",
    "\n",
    "# Create engine\n",
    "engine = create_engine(db_url)\n"
   ]
  },
  {
   "cell_type": "code",
   "execution_count": null,
   "id": "8a1eef11",
   "metadata": {},
   "outputs": [],
   "source": [
    "# # Use psycopg2 to enter the data\n",
    "# import psycopg2\n",
    "\n",
    "\n",
    "# # Define the SQL command to create the table\n",
    "# create_exercises = \"\"\"\n",
    "# CREATE TABLE IF NOT EXISTS exercises (\n",
    "#     exercise_id INTEGER PRIMARY KEY,\n",
    "#     exercise_name TEXT\n",
    "# );\n",
    "# \"\"\"\n",
    "\n",
    "# create_workouts = \"\"\"\n",
    "# CREATE TABLE IF NOT EXISTS workouts (\n",
    "#     workout_id INTEGER PRIMARY KEY,\n",
    "#     date TIMESTAMP,\n",
    "#     workout_name TEXT,\n",
    "#     duration INTEGER # I deleted this!\n",
    "# );\n",
    "# \"\"\"\n",
    "\n",
    "# create_sets = \"\"\"\n",
    "# CREATE TABLE IF NOT EXISTS sets (\n",
    "#     set_id INTEGER PRIMARY KEY,\n",
    "#     workout_id INTEGER REFERENCES workouts(workout_id),\n",
    "#     exercise_id INTEGER REFERENCES exercises(exercise_id),\n",
    "#     set_order INTEGER,\n",
    "#     weight DECIMAL,\n",
    "#     reps INTEGER\n",
    "# );\n",
    "# \"\"\"\n",
    "\n",
    "# Not doing this way"
   ]
  },
  {
   "cell_type": "code",
   "execution_count": null,
   "id": "7a3cfc2c",
   "metadata": {},
   "outputs": [],
   "source": [
    "# enter data into db\n",
    "exercises.to_sql('exercises', engine, if_exists='append', index=False)\n",
    "workouts.to_sql('workouts', engine, if_exists='append', index=False)\n",
    "sets.to_sql('sets', engine, if_exists='append', index=False)\n",
    "\n",
    "# Close connection\n",
    "engine.dispose()"
   ]
  },
  {
   "cell_type": "code",
   "execution_count": null,
   "id": "63f759c9",
   "metadata": {},
   "outputs": [
    {
     "data": {
      "application/vnd.microsoft.datawrangler.viewer.v0+json": {
       "columns": [
        {
         "name": "index",
         "rawType": "int64",
         "type": "integer"
        },
        {
         "name": "workout_id",
         "rawType": "int64",
         "type": "integer"
        },
        {
         "name": "date",
         "rawType": "object",
         "type": "string"
        },
        {
         "name": "workout_name",
         "rawType": "object",
         "type": "string"
        }
       ],
       "conversionMethod": "pd.DataFrame",
       "ref": "03fb8f19-324f-480c-a18e-0123b4570161",
       "rows": [
        [
         "5",
         "6",
         "2021-07-17 18:25:41",
         "Fierce 5 B"
        ],
        [
         "6",
         "7",
         "2021-07-20 21:29:53",
         "Fierce 5 A"
        ],
        [
         "7",
         "8",
         "2021-07-22 21:20:44",
         "Fierce 5 B"
        ],
        [
         "8",
         "9",
         "2023-10-28 09:13:20",
         "Lower 1"
        ],
        [
         "9",
         "10",
         "2023-10-29 19:40:08",
         "Upper 1"
        ],
        [
         "10",
         "11",
         "2023-11-14 21:02:33",
         "Lower 1"
        ],
        [
         "11",
         "12",
         "2023-11-15 21:01:15",
         "Upper 1"
        ],
        [
         "12",
         "13",
         "2023-11-21 20:33:36",
         "Lower 1"
        ],
        [
         "13",
         "14",
         "2023-11-22 20:11:00",
         "Upper 1"
        ],
        [
         "14",
         "15",
         "2023-11-25 21:27:29",
         "Evening Workout"
        ],
        [
         "15",
         "16",
         "2023-11-26 21:22:27",
         "Evening Workout"
        ],
        [
         "16",
         "17",
         "2023-11-28 20:36:04",
         "Lower 1"
        ],
        [
         "17",
         "18",
         "2023-11-29 20:53:16",
         "Upper 1"
        ],
        [
         "18",
         "19",
         "2023-12-09 22:34:31",
         "Lower 1"
        ],
        [
         "19",
         "20",
         "2023-12-16 15:20:32",
         "Lower 1"
        ],
        [
         "20",
         "21",
         "2023-12-17 20:03:35",
         "Upper 1"
        ],
        [
         "21",
         "22",
         "2023-12-21 18:58:45",
         "Day 3"
        ],
        [
         "22",
         "23",
         "2023-12-22 19:30:58",
         "Day 4"
        ],
        [
         "23",
         "24",
         "2023-12-23 11:26:13",
         "Lower 1"
        ],
        [
         "24",
         "25",
         "2024-01-06 11:25:48",
         "Upper 1"
        ],
        [
         "25",
         "26",
         "2024-01-27 18:14:10",
         "Lower 1"
        ],
        [
         "26",
         "27",
         "2024-01-28 18:26:13",
         "Upper 1"
        ],
        [
         "27",
         "28",
         "2024-01-30 20:58:34",
         "Day 3"
        ],
        [
         "28",
         "29",
         "2024-01-31 20:28:07",
         "Day 4"
        ],
        [
         "29",
         "30",
         "2024-02-03 13:01:07",
         "Lower 1"
        ],
        [
         "30",
         "31",
         "2024-02-04 15:44:00",
         "Upper 1"
        ],
        [
         "31",
         "32",
         "2024-02-13 19:52:09",
         "Day 3"
        ],
        [
         "32",
         "33",
         "2024-02-14 20:13:37",
         "Upper 1"
        ],
        [
         "33",
         "34",
         "2024-02-15 19:47:34",
         "Lower 1"
        ],
        [
         "34",
         "35",
         "2024-02-17 18:48:21",
         "Day 3"
        ],
        [
         "35",
         "36",
         "2024-02-18 17:47:44",
         "Upper 2"
        ],
        [
         "36",
         "37",
         "2024-02-18 18:42:43",
         "Abs"
        ],
        [
         "37",
         "38",
         "2024-02-22 19:30:40",
         "Lower 1"
        ],
        [
         "38",
         "39",
         "2024-02-22 20:23:19",
         "Abs"
        ],
        [
         "39",
         "40",
         "2024-03-07 21:17:27",
         "Lower 1"
        ],
        [
         "40",
         "41",
         "2024-03-08 12:35:21",
         "Upper 1"
        ],
        [
         "41",
         "42",
         "2024-03-09 08:28:59",
         "Lower 2"
        ],
        [
         "42",
         "43",
         "2024-03-10 17:52:23",
         "Upper 2"
        ],
        [
         "43",
         "44",
         "2024-03-10 19:08:31",
         "Abs"
        ],
        [
         "44",
         "45",
         "2024-03-16 17:32:24",
         "Lower 1"
        ],
        [
         "45",
         "46",
         "2024-03-22 19:37:04",
         "Lower 1"
        ],
        [
         "46",
         "47",
         "2024-03-24 11:21:31",
         "Upper 1"
        ],
        [
         "47",
         "48",
         "2024-04-04 21:23:53",
         "Lower 1"
        ],
        [
         "48",
         "49",
         "2024-04-06 18:13:50",
         "Upper 1"
        ],
        [
         "49",
         "50",
         "2024-04-07 18:10:24",
         "Lower 2"
        ],
        [
         "50",
         "51",
         "2024-04-11 09:06:46",
         "Lower 1"
        ],
        [
         "51",
         "52",
         "2024-04-12 21:07:22",
         "Upper 1"
        ],
        [
         "52",
         "53",
         "2024-04-12 22:20:21",
         "Abs"
        ],
        [
         "53",
         "54",
         "2024-04-13 10:53:41",
         "Lower 2"
        ],
        [
         "54",
         "55",
         "2024-04-14 17:42:10",
         "Push"
        ]
       ],
       "shape": {
        "columns": 3,
        "rows": 194
       }
      },
      "text/html": [
       "<div>\n",
       "<style scoped>\n",
       "    .dataframe tbody tr th:only-of-type {\n",
       "        vertical-align: middle;\n",
       "    }\n",
       "\n",
       "    .dataframe tbody tr th {\n",
       "        vertical-align: top;\n",
       "    }\n",
       "\n",
       "    .dataframe thead th {\n",
       "        text-align: right;\n",
       "    }\n",
       "</style>\n",
       "<table border=\"1\" class=\"dataframe\">\n",
       "  <thead>\n",
       "    <tr style=\"text-align: right;\">\n",
       "      <th></th>\n",
       "      <th>workout_id</th>\n",
       "      <th>date</th>\n",
       "      <th>workout_name</th>\n",
       "    </tr>\n",
       "  </thead>\n",
       "  <tbody>\n",
       "    <tr>\n",
       "      <th>5</th>\n",
       "      <td>6</td>\n",
       "      <td>2021-07-17 18:25:41</td>\n",
       "      <td>Fierce 5 B</td>\n",
       "    </tr>\n",
       "    <tr>\n",
       "      <th>6</th>\n",
       "      <td>7</td>\n",
       "      <td>2021-07-20 21:29:53</td>\n",
       "      <td>Fierce 5 A</td>\n",
       "    </tr>\n",
       "    <tr>\n",
       "      <th>7</th>\n",
       "      <td>8</td>\n",
       "      <td>2021-07-22 21:20:44</td>\n",
       "      <td>Fierce 5 B</td>\n",
       "    </tr>\n",
       "    <tr>\n",
       "      <th>8</th>\n",
       "      <td>9</td>\n",
       "      <td>2023-10-28 09:13:20</td>\n",
       "      <td>Lower 1</td>\n",
       "    </tr>\n",
       "    <tr>\n",
       "      <th>9</th>\n",
       "      <td>10</td>\n",
       "      <td>2023-10-29 19:40:08</td>\n",
       "      <td>Upper 1</td>\n",
       "    </tr>\n",
       "    <tr>\n",
       "      <th>...</th>\n",
       "      <td>...</td>\n",
       "      <td>...</td>\n",
       "      <td>...</td>\n",
       "    </tr>\n",
       "    <tr>\n",
       "      <th>194</th>\n",
       "      <td>195</td>\n",
       "      <td>2025-03-30 18:04:36</td>\n",
       "      <td>RF Upper A</td>\n",
       "    </tr>\n",
       "    <tr>\n",
       "      <th>195</th>\n",
       "      <td>196</td>\n",
       "      <td>2025-03-31 20:19:23</td>\n",
       "      <td>RF Lower A</td>\n",
       "    </tr>\n",
       "    <tr>\n",
       "      <th>196</th>\n",
       "      <td>197</td>\n",
       "      <td>2025-04-02 21:02:37</td>\n",
       "      <td>RF Upper B</td>\n",
       "    </tr>\n",
       "    <tr>\n",
       "      <th>197</th>\n",
       "      <td>198</td>\n",
       "      <td>2025-04-03 20:34:34</td>\n",
       "      <td>RF Lower B</td>\n",
       "    </tr>\n",
       "    <tr>\n",
       "      <th>198</th>\n",
       "      <td>199</td>\n",
       "      <td>2025-04-07 20:45:11</td>\n",
       "      <td>RF Upper A</td>\n",
       "    </tr>\n",
       "  </tbody>\n",
       "</table>\n",
       "<p>194 rows × 3 columns</p>\n",
       "</div>"
      ],
      "text/plain": [
       "     workout_id                 date workout_name\n",
       "5             6  2021-07-17 18:25:41   Fierce 5 B\n",
       "6             7  2021-07-20 21:29:53   Fierce 5 A\n",
       "7             8  2021-07-22 21:20:44   Fierce 5 B\n",
       "8             9  2023-10-28 09:13:20      Lower 1\n",
       "9            10  2023-10-29 19:40:08      Upper 1\n",
       "..          ...                  ...          ...\n",
       "194         195  2025-03-30 18:04:36   RF Upper A\n",
       "195         196  2025-03-31 20:19:23   RF Lower A\n",
       "196         197  2025-04-02 21:02:37   RF Upper B\n",
       "197         198  2025-04-03 20:34:34   RF Lower B\n",
       "198         199  2025-04-07 20:45:11   RF Upper A\n",
       "\n",
       "[194 rows x 3 columns]"
      ]
     },
     "execution_count": 28,
     "metadata": {},
     "output_type": "execute_result"
    }
   ],
   "source": [
    "\n",
    "dictionary = {\n",
    "    'workouts': [workouts, 'workout_id'],\n",
    "    'exercises': [exercises, 'exercise_id'],\n",
    "    'sets': [sets, 'set_id']\n",
    "    }\n",
    "\n",
    "with engine.connect() as connection:\n",
    "    for key, value in dictionary.items():\n",
    "    \n",
    "    df = value[0]\n",
    "    id_column = value[1]\n",
    "    table_name = key  \n",
    "    \n",
    "    # Get the number from the DB\n",
    "    id_count_from_db = text(f\"SELECT COUNT({id_column}) FROM {table_name}\")\n",
    "    id_count_from_db = connection.execute(id_count_from_db)\n",
    "    #id_count_from_db = result.scalar_one()\n",
    "\n",
    "    # Get total id from the dataframe\n",
    "    id_count_from_df = df[id_column].count()\n",
    "\n",
    "    # Check if the number from the dataframe is higher than db\n",
    "    if id_count_from_db < id_count_from_df:\n",
    "    # Get the number at which I need to start from and what number I need to go to\n",
    "        selected = df[id_count_from_db:]\n",
    "        # Add those to the databse\n",
    "        selected.to_sql(table_name, engine, if_exists='append', index=False)\n",
    "        print(f\"Successfully added {id_count_from_db - id_count_from_df} new records to {table_name}.\")\n",
    "    else:\n",
    "        print(f\"No new records found for {table_name}.\")\n",
    "# Close connection\n",
    "engine.dispose()\n",
    "\n"
   ]
  }
 ],
 "metadata": {
  "kernelspec": {
   "display_name": ".venv",
   "language": "python",
   "name": "python3"
  },
  "language_info": {
   "codemirror_mode": {
    "name": "ipython",
    "version": 3
   },
   "file_extension": ".py",
   "mimetype": "text/x-python",
   "name": "python",
   "nbconvert_exporter": "python",
   "pygments_lexer": "ipython3",
   "version": "3.12.2"
  }
 },
 "nbformat": 4,
 "nbformat_minor": 5
}
